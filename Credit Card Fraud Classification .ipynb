{
 "cells": [
  {
   "cell_type": "markdown",
   "id": "disturbed-survey",
   "metadata": {},
   "source": [
    "<div class=\"alert alert-block alert-info\" style=\"margin-top: 20px\"> \n",
    "<h3 align=\"center\">  _____________   <h3/>\n",
    "<h3 align=\"center\"> || CREDIT CARD FRAUD DETECTION || <h3/>\n",
    "<h3 align=\"center\">  _____________    <h3/>\n",
    "   \n",
    "</div>"
   ]
  },
  {
   "cell_type": "code",
   "execution_count": 1,
   "id": "absolute-reporter",
   "metadata": {},
   "outputs": [],
   "source": [
    "# We start by importing all our necessary libraries for this project\n",
    "\n",
    "import numpy as np\n",
    "import pandas as pd\n",
    "import matplotlib.pyplot as plt\n",
    "import seaborn as sns; sns.set_theme()\n",
    "%matplotlib inline\n",
    "\n",
    "import warnings\n",
    "warnings.filterwarnings(\"ignore\")"
   ]
  },
  {
   "cell_type": "code",
   "execution_count": 2,
   "id": "central-favorite",
   "metadata": {
    "scrolled": true
   },
   "outputs": [
    {
     "data": {
      "text/html": [
       "<div>\n",
       "<style scoped>\n",
       "    .dataframe tbody tr th:only-of-type {\n",
       "        vertical-align: middle;\n",
       "    }\n",
       "\n",
       "    .dataframe tbody tr th {\n",
       "        vertical-align: top;\n",
       "    }\n",
       "\n",
       "    .dataframe thead th {\n",
       "        text-align: right;\n",
       "    }\n",
       "</style>\n",
       "<table border=\"1\" class=\"dataframe\">\n",
       "  <thead>\n",
       "    <tr style=\"text-align: right;\">\n",
       "      <th></th>\n",
       "      <th>Time</th>\n",
       "      <th>V1</th>\n",
       "      <th>V2</th>\n",
       "      <th>V3</th>\n",
       "      <th>V4</th>\n",
       "      <th>V5</th>\n",
       "      <th>V6</th>\n",
       "      <th>V7</th>\n",
       "      <th>V8</th>\n",
       "      <th>V9</th>\n",
       "      <th>...</th>\n",
       "      <th>V21</th>\n",
       "      <th>V22</th>\n",
       "      <th>V23</th>\n",
       "      <th>V24</th>\n",
       "      <th>V25</th>\n",
       "      <th>V26</th>\n",
       "      <th>V27</th>\n",
       "      <th>V28</th>\n",
       "      <th>Amount</th>\n",
       "      <th>Class</th>\n",
       "    </tr>\n",
       "  </thead>\n",
       "  <tbody>\n",
       "    <tr>\n",
       "      <th>0</th>\n",
       "      <td>0.0</td>\n",
       "      <td>-1.359807</td>\n",
       "      <td>-0.072781</td>\n",
       "      <td>2.536347</td>\n",
       "      <td>1.378155</td>\n",
       "      <td>-0.338321</td>\n",
       "      <td>0.462388</td>\n",
       "      <td>0.239599</td>\n",
       "      <td>0.098698</td>\n",
       "      <td>0.363787</td>\n",
       "      <td>...</td>\n",
       "      <td>-0.018307</td>\n",
       "      <td>0.277838</td>\n",
       "      <td>-0.110474</td>\n",
       "      <td>0.066928</td>\n",
       "      <td>0.128539</td>\n",
       "      <td>-0.189115</td>\n",
       "      <td>0.133558</td>\n",
       "      <td>-0.021053</td>\n",
       "      <td>149.62</td>\n",
       "      <td>0</td>\n",
       "    </tr>\n",
       "    <tr>\n",
       "      <th>1</th>\n",
       "      <td>0.0</td>\n",
       "      <td>1.191857</td>\n",
       "      <td>0.266151</td>\n",
       "      <td>0.166480</td>\n",
       "      <td>0.448154</td>\n",
       "      <td>0.060018</td>\n",
       "      <td>-0.082361</td>\n",
       "      <td>-0.078803</td>\n",
       "      <td>0.085102</td>\n",
       "      <td>-0.255425</td>\n",
       "      <td>...</td>\n",
       "      <td>-0.225775</td>\n",
       "      <td>-0.638672</td>\n",
       "      <td>0.101288</td>\n",
       "      <td>-0.339846</td>\n",
       "      <td>0.167170</td>\n",
       "      <td>0.125895</td>\n",
       "      <td>-0.008983</td>\n",
       "      <td>0.014724</td>\n",
       "      <td>2.69</td>\n",
       "      <td>0</td>\n",
       "    </tr>\n",
       "    <tr>\n",
       "      <th>2</th>\n",
       "      <td>1.0</td>\n",
       "      <td>-1.358354</td>\n",
       "      <td>-1.340163</td>\n",
       "      <td>1.773209</td>\n",
       "      <td>0.379780</td>\n",
       "      <td>-0.503198</td>\n",
       "      <td>1.800499</td>\n",
       "      <td>0.791461</td>\n",
       "      <td>0.247676</td>\n",
       "      <td>-1.514654</td>\n",
       "      <td>...</td>\n",
       "      <td>0.247998</td>\n",
       "      <td>0.771679</td>\n",
       "      <td>0.909412</td>\n",
       "      <td>-0.689281</td>\n",
       "      <td>-0.327642</td>\n",
       "      <td>-0.139097</td>\n",
       "      <td>-0.055353</td>\n",
       "      <td>-0.059752</td>\n",
       "      <td>378.66</td>\n",
       "      <td>0</td>\n",
       "    </tr>\n",
       "    <tr>\n",
       "      <th>3</th>\n",
       "      <td>1.0</td>\n",
       "      <td>-0.966272</td>\n",
       "      <td>-0.185226</td>\n",
       "      <td>1.792993</td>\n",
       "      <td>-0.863291</td>\n",
       "      <td>-0.010309</td>\n",
       "      <td>1.247203</td>\n",
       "      <td>0.237609</td>\n",
       "      <td>0.377436</td>\n",
       "      <td>-1.387024</td>\n",
       "      <td>...</td>\n",
       "      <td>-0.108300</td>\n",
       "      <td>0.005274</td>\n",
       "      <td>-0.190321</td>\n",
       "      <td>-1.175575</td>\n",
       "      <td>0.647376</td>\n",
       "      <td>-0.221929</td>\n",
       "      <td>0.062723</td>\n",
       "      <td>0.061458</td>\n",
       "      <td>123.50</td>\n",
       "      <td>0</td>\n",
       "    </tr>\n",
       "    <tr>\n",
       "      <th>4</th>\n",
       "      <td>2.0</td>\n",
       "      <td>-1.158233</td>\n",
       "      <td>0.877737</td>\n",
       "      <td>1.548718</td>\n",
       "      <td>0.403034</td>\n",
       "      <td>-0.407193</td>\n",
       "      <td>0.095921</td>\n",
       "      <td>0.592941</td>\n",
       "      <td>-0.270533</td>\n",
       "      <td>0.817739</td>\n",
       "      <td>...</td>\n",
       "      <td>-0.009431</td>\n",
       "      <td>0.798278</td>\n",
       "      <td>-0.137458</td>\n",
       "      <td>0.141267</td>\n",
       "      <td>-0.206010</td>\n",
       "      <td>0.502292</td>\n",
       "      <td>0.219422</td>\n",
       "      <td>0.215153</td>\n",
       "      <td>69.99</td>\n",
       "      <td>0</td>\n",
       "    </tr>\n",
       "    <tr>\n",
       "      <th>5</th>\n",
       "      <td>2.0</td>\n",
       "      <td>-0.425966</td>\n",
       "      <td>0.960523</td>\n",
       "      <td>1.141109</td>\n",
       "      <td>-0.168252</td>\n",
       "      <td>0.420987</td>\n",
       "      <td>-0.029728</td>\n",
       "      <td>0.476201</td>\n",
       "      <td>0.260314</td>\n",
       "      <td>-0.568671</td>\n",
       "      <td>...</td>\n",
       "      <td>-0.208254</td>\n",
       "      <td>-0.559825</td>\n",
       "      <td>-0.026398</td>\n",
       "      <td>-0.371427</td>\n",
       "      <td>-0.232794</td>\n",
       "      <td>0.105915</td>\n",
       "      <td>0.253844</td>\n",
       "      <td>0.081080</td>\n",
       "      <td>3.67</td>\n",
       "      <td>0</td>\n",
       "    </tr>\n",
       "    <tr>\n",
       "      <th>6</th>\n",
       "      <td>4.0</td>\n",
       "      <td>1.229658</td>\n",
       "      <td>0.141004</td>\n",
       "      <td>0.045371</td>\n",
       "      <td>1.202613</td>\n",
       "      <td>0.191881</td>\n",
       "      <td>0.272708</td>\n",
       "      <td>-0.005159</td>\n",
       "      <td>0.081213</td>\n",
       "      <td>0.464960</td>\n",
       "      <td>...</td>\n",
       "      <td>-0.167716</td>\n",
       "      <td>-0.270710</td>\n",
       "      <td>-0.154104</td>\n",
       "      <td>-0.780055</td>\n",
       "      <td>0.750137</td>\n",
       "      <td>-0.257237</td>\n",
       "      <td>0.034507</td>\n",
       "      <td>0.005168</td>\n",
       "      <td>4.99</td>\n",
       "      <td>0</td>\n",
       "    </tr>\n",
       "    <tr>\n",
       "      <th>7</th>\n",
       "      <td>7.0</td>\n",
       "      <td>-0.644269</td>\n",
       "      <td>1.417964</td>\n",
       "      <td>1.074380</td>\n",
       "      <td>-0.492199</td>\n",
       "      <td>0.948934</td>\n",
       "      <td>0.428118</td>\n",
       "      <td>1.120631</td>\n",
       "      <td>-3.807864</td>\n",
       "      <td>0.615375</td>\n",
       "      <td>...</td>\n",
       "      <td>1.943465</td>\n",
       "      <td>-1.015455</td>\n",
       "      <td>0.057504</td>\n",
       "      <td>-0.649709</td>\n",
       "      <td>-0.415267</td>\n",
       "      <td>-0.051634</td>\n",
       "      <td>-1.206921</td>\n",
       "      <td>-1.085339</td>\n",
       "      <td>40.80</td>\n",
       "      <td>0</td>\n",
       "    </tr>\n",
       "    <tr>\n",
       "      <th>8</th>\n",
       "      <td>7.0</td>\n",
       "      <td>-0.894286</td>\n",
       "      <td>0.286157</td>\n",
       "      <td>-0.113192</td>\n",
       "      <td>-0.271526</td>\n",
       "      <td>2.669599</td>\n",
       "      <td>3.721818</td>\n",
       "      <td>0.370145</td>\n",
       "      <td>0.851084</td>\n",
       "      <td>-0.392048</td>\n",
       "      <td>...</td>\n",
       "      <td>-0.073425</td>\n",
       "      <td>-0.268092</td>\n",
       "      <td>-0.204233</td>\n",
       "      <td>1.011592</td>\n",
       "      <td>0.373205</td>\n",
       "      <td>-0.384157</td>\n",
       "      <td>0.011747</td>\n",
       "      <td>0.142404</td>\n",
       "      <td>93.20</td>\n",
       "      <td>0</td>\n",
       "    </tr>\n",
       "    <tr>\n",
       "      <th>9</th>\n",
       "      <td>9.0</td>\n",
       "      <td>-0.338262</td>\n",
       "      <td>1.119593</td>\n",
       "      <td>1.044367</td>\n",
       "      <td>-0.222187</td>\n",
       "      <td>0.499361</td>\n",
       "      <td>-0.246761</td>\n",
       "      <td>0.651583</td>\n",
       "      <td>0.069539</td>\n",
       "      <td>-0.736727</td>\n",
       "      <td>...</td>\n",
       "      <td>-0.246914</td>\n",
       "      <td>-0.633753</td>\n",
       "      <td>-0.120794</td>\n",
       "      <td>-0.385050</td>\n",
       "      <td>-0.069733</td>\n",
       "      <td>0.094199</td>\n",
       "      <td>0.246219</td>\n",
       "      <td>0.083076</td>\n",
       "      <td>3.68</td>\n",
       "      <td>0</td>\n",
       "    </tr>\n",
       "  </tbody>\n",
       "</table>\n",
       "<p>10 rows × 31 columns</p>\n",
       "</div>"
      ],
      "text/plain": [
       "   Time        V1        V2        V3        V4        V5        V6        V7  \\\n",
       "0   0.0 -1.359807 -0.072781  2.536347  1.378155 -0.338321  0.462388  0.239599   \n",
       "1   0.0  1.191857  0.266151  0.166480  0.448154  0.060018 -0.082361 -0.078803   \n",
       "2   1.0 -1.358354 -1.340163  1.773209  0.379780 -0.503198  1.800499  0.791461   \n",
       "3   1.0 -0.966272 -0.185226  1.792993 -0.863291 -0.010309  1.247203  0.237609   \n",
       "4   2.0 -1.158233  0.877737  1.548718  0.403034 -0.407193  0.095921  0.592941   \n",
       "5   2.0 -0.425966  0.960523  1.141109 -0.168252  0.420987 -0.029728  0.476201   \n",
       "6   4.0  1.229658  0.141004  0.045371  1.202613  0.191881  0.272708 -0.005159   \n",
       "7   7.0 -0.644269  1.417964  1.074380 -0.492199  0.948934  0.428118  1.120631   \n",
       "8   7.0 -0.894286  0.286157 -0.113192 -0.271526  2.669599  3.721818  0.370145   \n",
       "9   9.0 -0.338262  1.119593  1.044367 -0.222187  0.499361 -0.246761  0.651583   \n",
       "\n",
       "         V8        V9  ...       V21       V22       V23       V24       V25  \\\n",
       "0  0.098698  0.363787  ... -0.018307  0.277838 -0.110474  0.066928  0.128539   \n",
       "1  0.085102 -0.255425  ... -0.225775 -0.638672  0.101288 -0.339846  0.167170   \n",
       "2  0.247676 -1.514654  ...  0.247998  0.771679  0.909412 -0.689281 -0.327642   \n",
       "3  0.377436 -1.387024  ... -0.108300  0.005274 -0.190321 -1.175575  0.647376   \n",
       "4 -0.270533  0.817739  ... -0.009431  0.798278 -0.137458  0.141267 -0.206010   \n",
       "5  0.260314 -0.568671  ... -0.208254 -0.559825 -0.026398 -0.371427 -0.232794   \n",
       "6  0.081213  0.464960  ... -0.167716 -0.270710 -0.154104 -0.780055  0.750137   \n",
       "7 -3.807864  0.615375  ...  1.943465 -1.015455  0.057504 -0.649709 -0.415267   \n",
       "8  0.851084 -0.392048  ... -0.073425 -0.268092 -0.204233  1.011592  0.373205   \n",
       "9  0.069539 -0.736727  ... -0.246914 -0.633753 -0.120794 -0.385050 -0.069733   \n",
       "\n",
       "        V26       V27       V28  Amount  Class  \n",
       "0 -0.189115  0.133558 -0.021053  149.62      0  \n",
       "1  0.125895 -0.008983  0.014724    2.69      0  \n",
       "2 -0.139097 -0.055353 -0.059752  378.66      0  \n",
       "3 -0.221929  0.062723  0.061458  123.50      0  \n",
       "4  0.502292  0.219422  0.215153   69.99      0  \n",
       "5  0.105915  0.253844  0.081080    3.67      0  \n",
       "6 -0.257237  0.034507  0.005168    4.99      0  \n",
       "7 -0.051634 -1.206921 -1.085339   40.80      0  \n",
       "8 -0.384157  0.011747  0.142404   93.20      0  \n",
       "9  0.094199  0.246219  0.083076    3.68      0  \n",
       "\n",
       "[10 rows x 31 columns]"
      ]
     },
     "execution_count": 2,
     "metadata": {},
     "output_type": "execute_result"
    }
   ],
   "source": [
    "# We insert the dataset, available in kaggle\n",
    "\n",
    "data = pd.read_csv(\"Downloads/credit.csv\")\n",
    "data.head(10)"
   ]
  },
  {
   "cell_type": "markdown",
   "id": "boolean-pakistan",
   "metadata": {},
   "source": [
    "Well, here columns like V1, V2 and all others have been obtained using PCA[Principal Component Analysis] over the original dataset. \n",
    "Because of the security & confidential issues of all creditcardholders, it has been done this way. Only the time and amount\n",
    "attributes couldn't be taken into this computation process, so they remain unchanged in a way now. "
   ]
  },
  {
   "cell_type": "code",
   "execution_count": 3,
   "id": "present-aaron",
   "metadata": {},
   "outputs": [
    {
     "name": "stdout",
     "output_type": "stream",
     "text": [
      "Number of rows the dataset holds: 284807 \n",
      "& \n",
      "Number of columns goes: 31\n"
     ]
    }
   ],
   "source": [
    "print(\"Number of rows the dataset holds:\",data.shape[0],'\\n& \\nNumber of columns goes:',data.shape[1])"
   ]
  },
  {
   "cell_type": "code",
   "execution_count": 4,
   "id": "prescription-concord",
   "metadata": {},
   "outputs": [
    {
     "name": "stdout",
     "output_type": "stream",
     "text": [
      "Existance of missing values in our dataset: False\n"
     ]
    },
    {
     "data": {
      "text/plain": [
       "Time      0\n",
       "V16       0\n",
       "Amount    0\n",
       "V28       0\n",
       "V27       0\n",
       "dtype: int64"
      ]
     },
     "execution_count": 4,
     "metadata": {},
     "output_type": "execute_result"
    }
   ],
   "source": [
    "# Perform isnull to see if any rows with null values exist.\n",
    "\n",
    "print(\"Existance of missing values in our dataset:\",data.isnull().values.any())\n",
    "\n",
    "# Let's see it in a list\n",
    "data.isnull().sum().sort_values(ascending=False).head(5)"
   ]
  },
  {
   "cell_type": "markdown",
   "id": "cloudy-train",
   "metadata": {},
   "source": [
    "> Our dataset doesn't contain any null value. We count it as a good thing."
   ]
  },
  {
   "cell_type": "code",
   "execution_count": 5,
   "id": "different-differential",
   "metadata": {},
   "outputs": [
    {
     "name": "stderr",
     "output_type": "stream",
     "text": [
      "posx and posy should be finite values\n",
      "posx and posy should be finite values\n",
      "posx and posy should be finite values\n",
      "posx and posy should be finite values\n"
     ]
    },
    {
     "data": {
      "image/png": "[encoded data removed]",
      "text/plain": [
       "<Figure size 720x576 with 1 Axes>"
      ]
     },
     "metadata": {
      "needs_background": "light"
     },
     "output_type": "display_data"
    }
   ],
   "source": [
    "fig, ax = plt.subplots(1 ,1, figsize = (10, 8))\n",
    "\n",
    "ax = sns.countplot(\"Class\", data=data, hue=\"Class\", ax=ax)\n",
    "for i in ax.patches:\n",
    "    ax.text(x = i.get_x() + i.get_width()/2, y = i.get_height()/2, s = f\"{np.round(i.get_height()/len(data)*100, 2)}%\",\n",
    "            ha = 'center', size = 15, weight = 'bold', rotation = 35, color = 'black')\n",
    "ax.set_xticklabels(['Genuine(0)', 'Fraud(1)'], fontsize = 14)\n",
    "plt.title(\"Visualization of amount percentages with respect to Fraud & Genuine cases\",size=18)\n",
    "plt.legend(title=\"Class\", labels = data[\"Class\"].value_counts(), loc=\"upper right\")\n",
    "plt.show()"
   ]
  },
  {
   "cell_type": "markdown",
   "id": "available-directory",
   "metadata": {},
   "source": [
    "> This dataset is totally out of balance. As this is seen that **fraud cases** happened to be **492 times** out of total **284315 times** of **genuine cases**. We need to take care of that. We will try it through resampling or precision/sensitivity using Confusion-Matrix"
   ]
  },
  {
   "cell_type": "code",
   "execution_count": 6,
   "id": "federal-accounting",
   "metadata": {},
   "outputs": [],
   "source": [
    "# as we don't have anything missing here. Now let's drop all unnecessary columns. \n",
    "\n",
    "data.drop(['Time'],axis=1,inplace=True)\n",
    "\n",
    "# We consider the 'time' column as a complete unnecessary addition to our main objective, so just dropped it. "
   ]
  },
  {
   "cell_type": "code",
   "execution_count": 7,
   "id": "improved-administration",
   "metadata": {},
   "outputs": [
    {
     "data": {
      "text/html": [
       "<div>\n",
       "<style scoped>\n",
       "    .dataframe tbody tr th:only-of-type {\n",
       "        vertical-align: middle;\n",
       "    }\n",
       "\n",
       "    .dataframe tbody tr th {\n",
       "        vertical-align: top;\n",
       "    }\n",
       "\n",
       "    .dataframe thead th {\n",
       "        text-align: right;\n",
       "    }\n",
       "</style>\n",
       "<table border=\"1\" class=\"dataframe\">\n",
       "  <thead>\n",
       "    <tr style=\"text-align: right;\">\n",
       "      <th></th>\n",
       "      <th>V1</th>\n",
       "      <th>V2</th>\n",
       "      <th>V3</th>\n",
       "      <th>V4</th>\n",
       "      <th>V5</th>\n",
       "      <th>V6</th>\n",
       "      <th>V7</th>\n",
       "      <th>V8</th>\n",
       "      <th>V9</th>\n",
       "      <th>V10</th>\n",
       "    </tr>\n",
       "    <tr>\n",
       "      <th>Class</th>\n",
       "      <th></th>\n",
       "      <th></th>\n",
       "      <th></th>\n",
       "      <th></th>\n",
       "      <th></th>\n",
       "      <th></th>\n",
       "      <th></th>\n",
       "      <th></th>\n",
       "      <th></th>\n",
       "      <th></th>\n",
       "    </tr>\n",
       "  </thead>\n",
       "  <tbody>\n",
       "    <tr>\n",
       "      <th>0</th>\n",
       "      <td>2347.798634</td>\n",
       "      <td>-1782.898826</td>\n",
       "      <td>3460.374276</td>\n",
       "      <td>-2234.678319</td>\n",
       "      <td>1550.402644</td>\n",
       "      <td>687.686462</td>\n",
       "      <td>2739.815693</td>\n",
       "      <td>-280.75286</td>\n",
       "      <td>1269.912477</td>\n",
       "      <td>2793.026372</td>\n",
       "    </tr>\n",
       "    <tr>\n",
       "      <th>1</th>\n",
       "      <td>-2347.798633</td>\n",
       "      <td>1782.898826</td>\n",
       "      <td>-3460.374276</td>\n",
       "      <td>2234.678319</td>\n",
       "      <td>-1550.402644</td>\n",
       "      <td>-687.686462</td>\n",
       "      <td>-2739.815693</td>\n",
       "      <td>280.75286</td>\n",
       "      <td>-1269.912477</td>\n",
       "      <td>-2793.026372</td>\n",
       "    </tr>\n",
       "  </tbody>\n",
       "</table>\n",
       "</div>"
      ],
      "text/plain": [
       "                V1           V2           V3           V4           V5  \\\n",
       "Class                                                                    \n",
       "0      2347.798634 -1782.898826  3460.374276 -2234.678319  1550.402644   \n",
       "1     -2347.798633  1782.898826 -3460.374276  2234.678319 -1550.402644   \n",
       "\n",
       "               V6           V7         V8           V9          V10  \n",
       "Class                                                                \n",
       "0      687.686462  2739.815693 -280.75286  1269.912477  2793.026372  \n",
       "1     -687.686462 -2739.815693  280.75286 -1269.912477 -2793.026372  "
      ]
     },
     "execution_count": 7,
     "metadata": {},
     "output_type": "execute_result"
    }
   ],
   "source": [
    "data.groupby('Class').sum().iloc[:,:10]"
   ]
  },
  {
   "cell_type": "markdown",
   "id": "speaking-certification",
   "metadata": {},
   "source": [
    "> It's not good to look at their sum values rather than averages. It really doesn't offer any clear picture about whichever attribute does create a good effect on two class values. Let's better analyze attributes individually depending on their genuine & fraud cases. "
   ]
  },
  {
   "cell_type": "code",
   "execution_count": 8,
   "id": "competitive-bankruptcy",
   "metadata": {},
   "outputs": [],
   "source": [
    "genuine = data[data[\"Class\"] == 0]; fraud = data[data[\"Class\"] == 1]\n",
    "\n",
    "\n",
    "# we take sample of size 10000 just to reduce the run time & for more flexibility of analysis\n",
    "genuine = genuine.sample(n=10000)"
   ]
  },
  {
   "cell_type": "code",
   "execution_count": 9,
   "id": "hindu-crossing",
   "metadata": {},
   "outputs": [
    {
     "data": {
      "text/plain": [
       "count    10000.000000\n",
       "mean        82.933333\n",
       "std        212.801400\n",
       "min          0.000000\n",
       "25%          5.490000\n",
       "50%         22.000000\n",
       "75%         75.000000\n",
       "max       6000.000000\n",
       "Name: Amount, dtype: float64"
      ]
     },
     "execution_count": 9,
     "metadata": {},
     "output_type": "execute_result"
    }
   ],
   "source": [
    "genuine.Amount.describe()"
   ]
  },
  {
   "cell_type": "code",
   "execution_count": 10,
   "id": "tired-richardson",
   "metadata": {},
   "outputs": [
    {
     "data": {
      "text/html": [
       "<div>\n",
       "<style scoped>\n",
       "    .dataframe tbody tr th:only-of-type {\n",
       "        vertical-align: middle;\n",
       "    }\n",
       "\n",
       "    .dataframe tbody tr th {\n",
       "        vertical-align: top;\n",
       "    }\n",
       "\n",
       "    .dataframe thead th {\n",
       "        text-align: right;\n",
       "    }\n",
       "</style>\n",
       "<table border=\"1\" class=\"dataframe\">\n",
       "  <thead>\n",
       "    <tr style=\"text-align: right;\">\n",
       "      <th></th>\n",
       "      <th>V1</th>\n",
       "      <th>V2</th>\n",
       "      <th>V3</th>\n",
       "      <th>V4</th>\n",
       "      <th>V5</th>\n",
       "      <th>V6</th>\n",
       "      <th>V7</th>\n",
       "      <th>V8</th>\n",
       "      <th>V9</th>\n",
       "      <th>V10</th>\n",
       "      <th>...</th>\n",
       "      <th>V21</th>\n",
       "      <th>V22</th>\n",
       "      <th>V23</th>\n",
       "      <th>V24</th>\n",
       "      <th>V25</th>\n",
       "      <th>V26</th>\n",
       "      <th>V27</th>\n",
       "      <th>V28</th>\n",
       "      <th>Amount</th>\n",
       "      <th>Class</th>\n",
       "    </tr>\n",
       "  </thead>\n",
       "  <tbody>\n",
       "    <tr>\n",
       "      <th>541</th>\n",
       "      <td>-2.312227</td>\n",
       "      <td>1.951992</td>\n",
       "      <td>-1.609851</td>\n",
       "      <td>3.997906</td>\n",
       "      <td>-0.522188</td>\n",
       "      <td>-1.426545</td>\n",
       "      <td>-2.537387</td>\n",
       "      <td>1.391657</td>\n",
       "      <td>-2.770089</td>\n",
       "      <td>-2.772272</td>\n",
       "      <td>...</td>\n",
       "      <td>0.517232</td>\n",
       "      <td>-0.035049</td>\n",
       "      <td>-0.465211</td>\n",
       "      <td>0.320198</td>\n",
       "      <td>0.044519</td>\n",
       "      <td>0.177840</td>\n",
       "      <td>0.261145</td>\n",
       "      <td>-0.143276</td>\n",
       "      <td>0.00</td>\n",
       "      <td>1</td>\n",
       "    </tr>\n",
       "    <tr>\n",
       "      <th>623</th>\n",
       "      <td>-3.043541</td>\n",
       "      <td>-3.157307</td>\n",
       "      <td>1.088463</td>\n",
       "      <td>2.288644</td>\n",
       "      <td>1.359805</td>\n",
       "      <td>-1.064823</td>\n",
       "      <td>0.325574</td>\n",
       "      <td>-0.067794</td>\n",
       "      <td>-0.270953</td>\n",
       "      <td>-0.838587</td>\n",
       "      <td>...</td>\n",
       "      <td>0.661696</td>\n",
       "      <td>0.435477</td>\n",
       "      <td>1.375966</td>\n",
       "      <td>-0.293803</td>\n",
       "      <td>0.279798</td>\n",
       "      <td>-0.145362</td>\n",
       "      <td>-0.252773</td>\n",
       "      <td>0.035764</td>\n",
       "      <td>529.00</td>\n",
       "      <td>1</td>\n",
       "    </tr>\n",
       "    <tr>\n",
       "      <th>4920</th>\n",
       "      <td>-2.303350</td>\n",
       "      <td>1.759247</td>\n",
       "      <td>-0.359745</td>\n",
       "      <td>2.330243</td>\n",
       "      <td>-0.821628</td>\n",
       "      <td>-0.075788</td>\n",
       "      <td>0.562320</td>\n",
       "      <td>-0.399147</td>\n",
       "      <td>-0.238253</td>\n",
       "      <td>-1.525412</td>\n",
       "      <td>...</td>\n",
       "      <td>-0.294166</td>\n",
       "      <td>-0.932391</td>\n",
       "      <td>0.172726</td>\n",
       "      <td>-0.087330</td>\n",
       "      <td>-0.156114</td>\n",
       "      <td>-0.542628</td>\n",
       "      <td>0.039566</td>\n",
       "      <td>-0.153029</td>\n",
       "      <td>239.93</td>\n",
       "      <td>1</td>\n",
       "    </tr>\n",
       "    <tr>\n",
       "      <th>6108</th>\n",
       "      <td>-4.397974</td>\n",
       "      <td>1.358367</td>\n",
       "      <td>-2.592844</td>\n",
       "      <td>2.679787</td>\n",
       "      <td>-1.128131</td>\n",
       "      <td>-1.706536</td>\n",
       "      <td>-3.496197</td>\n",
       "      <td>-0.248778</td>\n",
       "      <td>-0.247768</td>\n",
       "      <td>-4.801637</td>\n",
       "      <td>...</td>\n",
       "      <td>0.573574</td>\n",
       "      <td>0.176968</td>\n",
       "      <td>-0.436207</td>\n",
       "      <td>-0.053502</td>\n",
       "      <td>0.252405</td>\n",
       "      <td>-0.657488</td>\n",
       "      <td>-0.827136</td>\n",
       "      <td>0.849573</td>\n",
       "      <td>59.00</td>\n",
       "      <td>1</td>\n",
       "    </tr>\n",
       "    <tr>\n",
       "      <th>6329</th>\n",
       "      <td>1.234235</td>\n",
       "      <td>3.019740</td>\n",
       "      <td>-4.304597</td>\n",
       "      <td>4.732795</td>\n",
       "      <td>3.624201</td>\n",
       "      <td>-1.357746</td>\n",
       "      <td>1.713445</td>\n",
       "      <td>-0.496358</td>\n",
       "      <td>-1.282858</td>\n",
       "      <td>-2.447469</td>\n",
       "      <td>...</td>\n",
       "      <td>-0.379068</td>\n",
       "      <td>-0.704181</td>\n",
       "      <td>-0.656805</td>\n",
       "      <td>-1.632653</td>\n",
       "      <td>1.488901</td>\n",
       "      <td>0.566797</td>\n",
       "      <td>-0.010016</td>\n",
       "      <td>0.146793</td>\n",
       "      <td>1.00</td>\n",
       "      <td>1</td>\n",
       "    </tr>\n",
       "  </tbody>\n",
       "</table>\n",
       "<p>5 rows × 30 columns</p>\n",
       "</div>"
      ],
      "text/plain": [
       "            V1        V2        V3        V4        V5        V6        V7  \\\n",
       "541  -2.312227  1.951992 -1.609851  3.997906 -0.522188 -1.426545 -2.537387   \n",
       "623  -3.043541 -3.157307  1.088463  2.288644  1.359805 -1.064823  0.325574   \n",
       "4920 -2.303350  1.759247 -0.359745  2.330243 -0.821628 -0.075788  0.562320   \n",
       "6108 -4.397974  1.358367 -2.592844  2.679787 -1.128131 -1.706536 -3.496197   \n",
       "6329  1.234235  3.019740 -4.304597  4.732795  3.624201 -1.357746  1.713445   \n",
       "\n",
       "            V8        V9       V10  ...       V21       V22       V23  \\\n",
       "541   1.391657 -2.770089 -2.772272  ...  0.517232 -0.035049 -0.465211   \n",
       "623  -0.067794 -0.270953 -0.838587  ...  0.661696  0.435477  1.375966   \n",
       "4920 -0.399147 -0.238253 -1.525412  ... -0.294166 -0.932391  0.172726   \n",
       "6108 -0.248778 -0.247768 -4.801637  ...  0.573574  0.176968 -0.436207   \n",
       "6329 -0.496358 -1.282858 -2.447469  ... -0.379068 -0.704181 -0.656805   \n",
       "\n",
       "           V24       V25       V26       V27       V28  Amount  Class  \n",
       "541   0.320198  0.044519  0.177840  0.261145 -0.143276    0.00      1  \n",
       "623  -0.293803  0.279798 -0.145362 -0.252773  0.035764  529.00      1  \n",
       "4920 -0.087330 -0.156114 -0.542628  0.039566 -0.153029  239.93      1  \n",
       "6108 -0.053502  0.252405 -0.657488 -0.827136  0.849573   59.00      1  \n",
       "6329 -1.632653  1.488901  0.566797 -0.010016  0.146793    1.00      1  \n",
       "\n",
       "[5 rows x 30 columns]"
      ]
     },
     "execution_count": 10,
     "metadata": {},
     "output_type": "execute_result"
    }
   ],
   "source": [
    "# now create a final dataset by joining these two dataframes\n",
    "df = fraud.append(genuine)\n",
    "\n",
    "df.head()"
   ]
  },
  {
   "cell_type": "code",
   "execution_count": 11,
   "id": "uniform-concentration",
   "metadata": {},
   "outputs": [
    {
     "data": {
      "image/png": "[encoded data removed]",
      "text/plain": [
       "<Figure size 1296x864 with 2 Axes>"
      ]
     },
     "metadata": {
      "needs_background": "light"
     },
     "output_type": "display_data"
    }
   ],
   "source": [
    "plt.figure(figsize=(18,12))\n",
    "sns.heatmap(df.corr(), annot=False, center=0, linewidths=0.4, cmap=\"YlGnBu\", cbar=True)\n",
    "plt.show()"
   ]
  },
  {
   "cell_type": "code",
   "execution_count": 12,
   "id": "suffering-smart",
   "metadata": {},
   "outputs": [
    {
     "data": {
      "image/png": "[encoded data removed]",
      "text/plain": [
       "<Figure size 1296x864 with 2 Axes>"
      ]
     },
     "metadata": {
      "needs_background": "light"
     },
     "output_type": "display_data"
    }
   ],
   "source": [
    "plt.figure(figsize=(18,12))\n",
    "corr = df.corr()\n",
    "mask = np.triu(np.ones_like(corr, dtype=bool))\n",
    "\n",
    "sns.heatmap(corr, mask=mask, center=0, square=True, linewidths=.4, cmap=\"YlGnBu\")\n",
    "plt.show()"
   ]
  },
  {
   "cell_type": "code",
   "execution_count": 13,
   "id": "universal-hypothetical",
   "metadata": {},
   "outputs": [],
   "source": [
    "from sklearn.preprocessing import StandardScaler\n",
    "from sklearn import metrics           # for model evaluation\n",
    "from sklearn.model_selection import train_test_split   # for splitting data"
   ]
  },
  {
   "cell_type": "code",
   "execution_count": 14,
   "id": "knowing-illness",
   "metadata": {},
   "outputs": [],
   "source": [
    "ss = StandardScaler()   \n",
    "\n",
    "df[\"Amount\"] = ss.fit_transform(df[\"Amount\"].values.reshape(-1,1))"
   ]
  },
  {
   "cell_type": "markdown",
   "id": "destroyed-tower",
   "metadata": {},
   "source": [
    "### Predictor & Target Variable set"
   ]
  },
  {
   "cell_type": "code",
   "execution_count": 15,
   "id": "placed-lebanon",
   "metadata": {},
   "outputs": [],
   "source": [
    "X = df.iloc[:,:-1]\n",
    "y = df.loc[: , 'Class']"
   ]
  },
  {
   "cell_type": "code",
   "execution_count": 16,
   "id": "selective-compression",
   "metadata": {},
   "outputs": [
    {
     "name": "stdout",
     "output_type": "stream",
     "text": [
      "Train set: (6994, 29) (6994,)\n",
      "Test set: (3498, 29) (3498,)\n"
     ]
    }
   ],
   "source": [
    "train_X, test_X, train_y, test_y = train_test_split(X, y, test_size=1/3, random_state=42)\n",
    "\n",
    "print ('Train set:', train_X.shape,  train_y.shape)\n",
    "print ('Test set:', test_X.shape,  test_y.shape)"
   ]
  },
  {
   "cell_type": "code",
   "execution_count": 17,
   "id": "veterinary-wiring",
   "metadata": {},
   "outputs": [
    {
     "data": {
      "text/plain": [
       "Index(['V1', 'V2', 'V3', 'V4', 'V5', 'V6', 'V7', 'V8', 'V9', 'V10', 'V11',\n",
       "       'V12', 'V13', 'V14', 'V15', 'V16', 'V17', 'V18', 'V19', 'V20', 'V21',\n",
       "       'V22', 'V23', 'V24', 'V25', 'V26', 'V27', 'V28', 'Amount'],\n",
       "      dtype='object')"
      ]
     },
     "execution_count": 17,
     "metadata": {},
     "output_type": "execute_result"
    }
   ],
   "source": [
    "features = X.columns\n",
    "features"
   ]
  },
  {
   "cell_type": "markdown",
   "id": "humanitarian-breeding",
   "metadata": {},
   "source": [
    "### Defining some functions for future purposes"
   ]
  },
  {
   "cell_type": "code",
   "execution_count": 18,
   "id": "expensive-jaguar",
   "metadata": {},
   "outputs": [],
   "source": [
    "# to get accuracy scores for model evaluation\n",
    "\n",
    "def metrics_(model_name, test_y,y_pred):\n",
    "    \n",
    "    acc_sc = metrics.accuracy_score(test_y,y_pred)\n",
    "    recall = metrics.recall_score(test_y,y_pred)\n",
    "    preci = metrics.precision_score(test_y,y_pred)\n",
    "    f1 = metrics.f1_score(test_y,y_pred)\n",
    "    \n",
    "    print(\"For model {}:\\n\".format(model_name))\n",
    "    \n",
    "    print(\"accuracy score : {}\".format(acc_sc))\n",
    "    print(\"Recall score : {}\".format(recall))\n",
    "    print(\"precision score : {}\".format(preci))\n",
    "    print(\"F1 score : {}\\n\".format(f1))\n",
    "\n",
    "    \n",
    "def cf_plot(model_name, test_y,y_pred):\n",
    "    \n",
    "    con_mat = metrics.confusion_matrix(test_y, y_pred)\n",
    "    print(\"Confusion Matrix for {} is:\\n\".format(model_name))\n",
    "    plt.figure(figsize=(10,7))\n",
    "    sns.heatmap(con_mat, annot=True, fmt='0.0f', cmap=\"YlGnBu\", xticklabels=['Genuine', 'Fraud'],\n",
    "                yticklabels=['Genuine', 'Fraud'])\n",
    "    plt.xlabel('Predicted values',size=18)\n",
    "    plt.ylabel('Actual values',size=18)\n",
    "    plt.title('Confusion Matrix ',size=22)\n",
    "    plt.show()"
   ]
  },
  {
   "cell_type": "code",
   "execution_count": 19,
   "id": "blank-outside",
   "metadata": {},
   "outputs": [],
   "source": [
    "def feature_imp(model_object):\n",
    "    \n",
    "    \n",
    "    f = pd.DataFrame({'Features': features, 'Feature importances': model_object.feature_importances_})\n",
    "    f.sort_values(by='Feature importances',ascending=False, inplace=True)\n",
    "    plt.figure(figsize=(15,8))\n",
    "    sns.barplot(x='Features',y='Feature importances', data=f, palette=\"BuGn_r\")\n",
    "    plt.title(\"Feature Importance using RandomForest\",size=15)\n",
    "    plt.xticks(rotation=45)\n",
    "    plt.show()"
   ]
  },
  {
   "cell_type": "markdown",
   "id": "abroad-dairy",
   "metadata": {},
   "source": [
    "### Classification models building"
   ]
  },
  {
   "cell_type": "code",
   "execution_count": 20,
   "id": "material-gregory",
   "metadata": {},
   "outputs": [],
   "source": [
    "# K Nearest Neighbor"
   ]
  },
  {
   "cell_type": "code",
   "execution_count": 21,
   "id": "republican-average",
   "metadata": {},
   "outputs": [
    {
     "data": {
      "image/png": "[encoded data removed]",
      "text/plain": [
       "<Figure size 432x288 with 1 Axes>"
      ]
     },
     "metadata": {
      "needs_background": "light"
     },
     "output_type": "display_data"
    }
   ],
   "source": [
    "from sklearn.neighbors import KNeighborsClassifier\n",
    "\n",
    "# iterate model training process for 10 k values to find out the best value of k that offers the best prediction\n",
    "\n",
    "Ks = 10\n",
    "mean_acc = np.zeros((Ks-1))\n",
    "std_acc = np.zeros((Ks-1))\n",
    "\n",
    "for n in range(1,Ks):\n",
    "    \n",
    "    #Train Model and Predict  \n",
    "    knn = KNeighborsClassifier(n_neighbors = n).fit(train_X,train_y)\n",
    "    ypred_knn = knn.predict(test_X)\n",
    "    mean_acc[n-1] = metrics.accuracy_score(test_y, ypred_knn)    \n",
    "    std_acc[n-1]=np.std(ypred_knn==test_y)/np.sqrt(ypred_knn.shape[0])\n",
    "\n",
    "plt.plot(range(1,Ks),mean_acc,'g')\n",
    "plt.fill_between(range(1,Ks),mean_acc - 1 * std_acc,mean_acc + 1 * std_acc, alpha=0.10)\n",
    "plt.fill_between(range(1,Ks),mean_acc - 3 * std_acc,mean_acc + 3 * std_acc, alpha=0.10,color=\"green\")\n",
    "plt.legend(('Accuracy ', '+/- 1xstd','+/- 3xstd'))\n",
    "plt.ylabel('Accuracy ')\n",
    "plt.xlabel('Number of Neighbors (K)')\n",
    "plt.tight_layout()\n",
    "plt.show()"
   ]
  },
  {
   "cell_type": "markdown",
   "id": "loved-beatles",
   "metadata": {},
   "source": [
    "> It is clear from above that k=3 offers the best accuracy for this model. So, we are going to predict the model using k=3.    \n",
    "[ k = number of centroids of clusters ]"
   ]
  },
  {
   "cell_type": "code",
   "execution_count": 22,
   "id": "miniature-commander",
   "metadata": {},
   "outputs": [
    {
     "name": "stdout",
     "output_type": "stream",
     "text": [
      "The best accuracy was with 0.992 with k= 3\n"
     ]
    }
   ],
   "source": [
    "print( \"The best accuracy was with\", np.round(mean_acc.max(),3), \"with k=\", mean_acc.argmax()+1) "
   ]
  },
  {
   "cell_type": "code",
   "execution_count": 23,
   "id": "specified-agriculture",
   "metadata": {},
   "outputs": [],
   "source": [
    "# final prediction with k = 3\n",
    "\n",
    "knn1 = KNeighborsClassifier(n_neighbors = 3)\n",
    "knn1.fit(train_X,train_y)\n",
    "ypred_knn1 = knn1.predict(test_X)"
   ]
  },
  {
   "cell_type": "code",
   "execution_count": 24,
   "id": "excited-whale",
   "metadata": {},
   "outputs": [
    {
     "name": "stdout",
     "output_type": "stream",
     "text": [
      "For model K-Nearest Neighbors:\n",
      "\n",
      "accuracy score : 0.9917095483133219\n",
      "Recall score : 0.8491620111731844\n",
      "precision score : 0.987012987012987\n",
      "F1 score : 0.912912912912913\n",
      "\n"
     ]
    }
   ],
   "source": [
    "metrics_('K-Nearest Neighbors', test_y,ypred_knn1)"
   ]
  },
  {
   "cell_type": "code",
   "execution_count": 25,
   "id": "processed-pulse",
   "metadata": {},
   "outputs": [],
   "source": [
    "# Logistic Regression   "
   ]
  },
  {
   "cell_type": "code",
   "execution_count": 26,
   "id": "cross-organ",
   "metadata": {},
   "outputs": [],
   "source": [
    "from sklearn.linear_model import LogisticRegression\n",
    "\n",
    "lr = LogisticRegression(C=0.01, solver='liblinear')\n",
    "lr.fit(train_X,train_y)\n",
    "ypred_lr = lr.predict(test_X)\n",
    "ypred_lr_prob = lr.predict_proba(test_X)"
   ]
  },
  {
   "cell_type": "code",
   "execution_count": 27,
   "id": "defined-chest",
   "metadata": {},
   "outputs": [
    {
     "name": "stdout",
     "output_type": "stream",
     "text": [
      "For model Logistic Regression:\n",
      "\n",
      "accuracy score : 0.9897084048027445\n",
      "Recall score : 0.8212290502793296\n",
      "precision score : 0.9735099337748344\n",
      "F1 score : 0.8909090909090909\n",
      "\n"
     ]
    }
   ],
   "source": [
    "metrics_('Logistic Regression', test_y,ypred_lr)"
   ]
  },
  {
   "cell_type": "code",
   "execution_count": 28,
   "id": "future-industry",
   "metadata": {},
   "outputs": [
    {
     "name": "stdout",
     "output_type": "stream",
     "text": [
      "Jaccard Score for Logistic Regression is: 0.9892569382273948\n",
      "\n",
      "Logloss Score for Logistic Regression is: 0.07746199607018042\n"
     ]
    }
   ],
   "source": [
    "from sklearn.metrics import jaccard_score     # ranges from 0 to 1. higher the value, better the prediction\n",
    "from sklearn.metrics import log_loss          # ranges from 0 to 1. Lower the value, better the prediction\n",
    "\n",
    "print(\"Jaccard Score for Logistic Regression is: {}\\n\".format(jaccard_score(test_y, ypred_lr,pos_label=0)))\n",
    "print(\"Logloss Score for Logistic Regression is: {}\".format(log_loss(test_y, ypred_lr_prob)))"
   ]
  },
  {
   "cell_type": "code",
   "execution_count": 29,
   "id": "equipped-lounge",
   "metadata": {},
   "outputs": [],
   "source": [
    "# Random Forest "
   ]
  },
  {
   "cell_type": "code",
   "execution_count": 30,
   "id": "interested-traveler",
   "metadata": {},
   "outputs": [],
   "source": [
    "from sklearn.ensemble import RandomForestClassifier\n",
    "\n",
    "rf = RandomForestClassifier(n_estimators = 100, criterion = 'entropy', random_state = 0)\n",
    "rf.fit(train_X,train_y)\n",
    "ypred_rf = rf.predict(test_X)"
   ]
  },
  {
   "cell_type": "code",
   "execution_count": 31,
   "id": "placed-phenomenon",
   "metadata": {},
   "outputs": [
    {
     "name": "stdout",
     "output_type": "stream",
     "text": [
      "For model Random Forest Classifier:\n",
      "\n",
      "accuracy score : 0.9917095483133219\n",
      "Recall score : 0.8491620111731844\n",
      "precision score : 0.987012987012987\n",
      "F1 score : 0.912912912912913\n",
      "\n"
     ]
    }
   ],
   "source": [
    "metrics_('Random Forest Classifier', test_y,ypred_rf)"
   ]
  },
  {
   "cell_type": "code",
   "execution_count": 32,
   "id": "polyphonic-nowhere",
   "metadata": {},
   "outputs": [],
   "source": [
    "# We will apply another classifier, Xgboost (Extreme Gradient Boosting)\n",
    "# As we know, it is considered as faster than other ensemble classifiers, also it offers a bunch of tuning parameters.\n",
    "\n",
    "\n",
    "# XGBoost"
   ]
  },
  {
   "cell_type": "code",
   "execution_count": 33,
   "id": "champion-bonus",
   "metadata": {},
   "outputs": [
    {
     "name": "stdout",
     "output_type": "stream",
     "text": [
      "[01:33:37] WARNING: C:/Users/Administrator/workspace/xgboost-win64_release_1.4.0/src/learner.cc:1095: Starting in XGBoost 1.3.0, the default evaluation metric used with the objective 'binary:logistic' was changed from 'error' to 'logloss'. Explicitly set eval_metric if you'd like to restore the old behavior.\n",
      "For model XGBoost:\n",
      "\n",
      "accuracy score : 0.9911377930245855\n",
      "Recall score : 0.8547486033519553\n",
      "precision score : 0.9683544303797469\n",
      "F1 score : 0.9080118694362018\n",
      "\n",
      "Confusion Matrix for XGBoost is:\n",
      "\n"
     ]
    },
    {
     "data": {
      "image/png": "[encoded data removed]",
      "text/plain": [
       "<Figure size 720x504 with 2 Axes>"
      ]
     },
     "metadata": {
      "needs_background": "light"
     },
     "output_type": "display_data"
    }
   ],
   "source": [
    "from xgboost import XGBClassifier\n",
    "\n",
    "xgb = XGBClassifier()\n",
    "xgb.fit(train_X,train_y)\n",
    "ypred_xgb = xgb.predict(test_X)\n",
    "metrics_('XGBoost', test_y, ypred_xgb)\n",
    "cf_plot('XGBoost', test_y, ypred_xgb)"
   ]
  },
  {
   "cell_type": "markdown",
   "id": "experimental-beaver",
   "metadata": {},
   "source": [
    "### Let's summarize the score values of these above classifiers in one single dataframe"
   ]
  },
  {
   "cell_type": "code",
   "execution_count": 34,
   "id": "sealed-bhutan",
   "metadata": {},
   "outputs": [
    {
     "data": {
      "text/html": [
       "<div>\n",
       "<style scoped>\n",
       "    .dataframe tbody tr th:only-of-type {\n",
       "        vertical-align: middle;\n",
       "    }\n",
       "\n",
       "    .dataframe tbody tr th {\n",
       "        vertical-align: top;\n",
       "    }\n",
       "\n",
       "    .dataframe thead th {\n",
       "        text-align: right;\n",
       "    }\n",
       "</style>\n",
       "<table border=\"1\" class=\"dataframe\">\n",
       "  <thead>\n",
       "    <tr style=\"text-align: right;\">\n",
       "      <th></th>\n",
       "      <th>Models</th>\n",
       "      <th>Recall/Sensitivity</th>\n",
       "      <th>Accuracy_Score</th>\n",
       "      <th>Precision</th>\n",
       "      <th>F1_Score</th>\n",
       "    </tr>\n",
       "  </thead>\n",
       "  <tbody>\n",
       "    <tr>\n",
       "      <th>0</th>\n",
       "      <td>K-NN</td>\n",
       "      <td>0.849</td>\n",
       "      <td>0.992</td>\n",
       "      <td>0.987</td>\n",
       "      <td>0.913</td>\n",
       "    </tr>\n",
       "    <tr>\n",
       "      <th>1</th>\n",
       "      <td>Logistic</td>\n",
       "      <td>0.821</td>\n",
       "      <td>0.990</td>\n",
       "      <td>0.974</td>\n",
       "      <td>0.891</td>\n",
       "    </tr>\n",
       "    <tr>\n",
       "      <th>2</th>\n",
       "      <td>Random Forest</td>\n",
       "      <td>0.849</td>\n",
       "      <td>0.992</td>\n",
       "      <td>0.987</td>\n",
       "      <td>0.913</td>\n",
       "    </tr>\n",
       "  </tbody>\n",
       "</table>\n",
       "</div>"
      ],
      "text/plain": [
       "          Models  Recall/Sensitivity  Accuracy_Score  Precision  F1_Score\n",
       "0           K-NN               0.849           0.992      0.987     0.913\n",
       "1       Logistic               0.821           0.990      0.974     0.891\n",
       "2  Random Forest               0.849           0.992      0.987     0.913"
      ]
     },
     "execution_count": 34,
     "metadata": {},
     "output_type": "execute_result"
    }
   ],
   "source": [
    "Models = ['K-NN','Logistic','Random Forest']\n",
    "acc = np.round([metrics.accuracy_score(test_y,ypred_knn1),metrics.accuracy_score(test_y,ypred_lr),\n",
    "       metrics.accuracy_score(test_y,ypred_rf)],3)\n",
    "rc = np.round([metrics.recall_score(test_y,ypred_knn1),metrics.recall_score(test_y,ypred_lr),\n",
    "               metrics.recall_score(test_y,ypred_rf)],3)\n",
    "pr = np.round([metrics.precision_score(test_y,ypred_knn1),metrics.precision_score(test_y,ypred_lr),\n",
    "               metrics.precision_score(test_y,ypred_rf)],3)\n",
    "f1 = np.round([metrics.f1_score(test_y,ypred_knn1),metrics.f1_score(test_y,ypred_lr),\n",
    "               metrics.f1_score(test_y,ypred_rf)],3)\n",
    "\n",
    "\n",
    "\n",
    "dataframe = pd.DataFrame({'Models':Models , 'Recall/Sensitivity':rc , 'Accuracy_Score':acc , 'Precision':pr , 'F1_Score':f1})\n",
    "dataframe"
   ]
  },
  {
   "cell_type": "markdown",
   "id": "ruled-morocco",
   "metadata": {},
   "source": [
    "<div class=\"alert alert-block alert-info\" style=\"margin-top: 20px\"> \n",
    "It seems a good sign that we achieved really good metric scores from each of the classifiers.\n",
    "But, if you remember we had our dataset in totally imbalanced state. Accuracy in these cases can be a little a biased for imbalanced data. As our model fails to capture the minority class because of the majority portion.\n",
    "\n",
    "We know,\n",
    "   \n",
    "   Recall ( True Positive Rate ) = $ \\frac{True Positive}{True Positive + False Negative} $\n",
    "  \n",
    "   Accuracy = $ \\frac{True Positive + False Positive}{True Positive + False Positive + True Negative + False Negative} $\n",
    "  \n",
    "   Precision = $ \\frac{True Positive}{True Positive + False Positive}$\n",
    "  \n",
    "   F1 = 2 × $ \\frac{Precision × Recall}{Precision + Recall}$\n",
    "\n",
    "Sensitivity/recall describes how good a test is at detecting the positives. So, if False Negative goes down, recall will increase, so will decrease this dataset's imbalanced nature.\n",
    "\n",
    "We will go for resampling technique to control this high imbalance inaccuracy as it removes samples from the majority class (under-sampling) and adds more samples from the minority class(over-sampling).\n",
    "    \n",
    "\n",
    " The techniques 'll be following here,\n",
    "                 \n",
    "           * Random Sampling (Under)\n",
    "           * Random Sampling (Over)\n",
    "           * SMOTE\n"
   ]
  },
  {
   "cell_type": "markdown",
   "id": "manual-florence",
   "metadata": {},
   "source": [
    "## \n",
    "<h3 align=\"center\"> i) Random Under Sampling (With Replacement) <h3/>"
   ]
  },
  {
   "cell_type": "markdown",
   "id": "unlikely-leather",
   "metadata": {},
   "source": [
    "> It is used to remove random samples from the majority class(here, Genuine class). In simple word, we use it to\n",
    "create peace between the majority and the minority classes, I mean to balance them out."
   ]
  },
  {
   "attachments": {
    "under.png": {
     "image/png": "[encoded data removed]"
    }
   },
   "cell_type": "markdown",
   "id": "radical-jonathan",
   "metadata": {},
   "source": [
    "![under.png](attachment:under.png)"
   ]
  },
  {
   "cell_type": "code",
   "execution_count": 35,
   "id": "palestinian-english",
   "metadata": {},
   "outputs": [],
   "source": [
    "from imblearn.under_sampling import RandomUnderSampler\n",
    "\n",
    "rs_un = RandomUnderSampler(random_state=42, replacement=True)\n",
    "train_X_rs_un, train_y_rs_un = rs_un.fit_resample(train_X,train_y)"
   ]
  },
  {
   "cell_type": "code",
   "execution_count": 36,
   "id": "allied-stanford",
   "metadata": {},
   "outputs": [],
   "source": [
    "# K-Nearest Neighbors"
   ]
  },
  {
   "cell_type": "code",
   "execution_count": 37,
   "id": "protective-patch",
   "metadata": {},
   "outputs": [
    {
     "data": {
      "image/png": "[encoded data removed]",
      "text/plain": [
       "<Figure size 432x288 with 1 Axes>"
      ]
     },
     "metadata": {
      "needs_background": "light"
     },
     "output_type": "display_data"
    }
   ],
   "source": [
    "Ks = 10\n",
    "mean_acc = np.zeros((Ks-1))\n",
    "std_acc = np.zeros((Ks-1))\n",
    "\n",
    "for n in range(1,Ks):\n",
    "    \n",
    "    #Train Model and Predict  \n",
    "    knn = KNeighborsClassifier(n_neighbors = n).fit(train_X_rs_un, train_y_rs_un)\n",
    "    ypred_knn = knn.predict(test_X)\n",
    "    mean_acc[n-1] = metrics.accuracy_score(test_y, ypred_knn)    \n",
    "    std_acc[n-1]=np.std(ypred_knn==test_y)/np.sqrt(ypred_knn.shape[0])\n",
    "\n",
    "plt.plot(range(1,Ks),mean_acc,'g')\n",
    "plt.fill_between(range(1,Ks),mean_acc - 1 * std_acc,mean_acc + 1 * std_acc, alpha=0.10)\n",
    "plt.fill_between(range(1,Ks),mean_acc - 3 * std_acc,mean_acc + 3 * std_acc, alpha=0.10,color=\"red\")\n",
    "plt.legend(('Accuracy ', '+/- 1xstd','+/- 3xstd'))\n",
    "plt.ylabel('Accuracy ')\n",
    "plt.xlabel('Number of Neighbors (K)')\n",
    "plt.tight_layout()\n",
    "plt.show()"
   ]
  },
  {
   "cell_type": "code",
   "execution_count": 38,
   "id": "hungarian-gasoline",
   "metadata": {},
   "outputs": [
    {
     "name": "stdout",
     "output_type": "stream",
     "text": [
      "The best accuracy was with 0.983 with k= 8\n"
     ]
    }
   ],
   "source": [
    "print( \"The best accuracy was with\", np.round(mean_acc.max(),3), \"with k=\", mean_acc.argmax()+1)"
   ]
  },
  {
   "cell_type": "code",
   "execution_count": 39,
   "id": "helpful-resistance",
   "metadata": {},
   "outputs": [],
   "source": [
    "# After resampling final prediction using k = 4\n",
    "\n",
    "knn2 = KNeighborsClassifier(n_neighbors = 4)\n",
    "knn2.fit(train_X_rs_un, train_y_rs_un)\n",
    "ypred_knn2 = knn2.predict(test_X)"
   ]
  },
  {
   "cell_type": "code",
   "execution_count": 40,
   "id": "public-resort",
   "metadata": {},
   "outputs": [
    {
     "name": "stdout",
     "output_type": "stream",
     "text": [
      "For model K-Nearest Neighbors:\n",
      "\n",
      "accuracy score : 0.9802744425385935\n",
      "Recall score : 0.8770949720670391\n",
      "precision score : 0.7696078431372549\n",
      "F1 score : 0.8198433420365535\n",
      "\n",
      "Confusion Matrix for K-Nearest Neighbors is:\n",
      "\n"
     ]
    },
    {
     "data": {
      "image/png": "[encoded data removed]",
      "text/plain": [
       "<Figure size 720x504 with 2 Axes>"
      ]
     },
     "metadata": {
      "needs_background": "light"
     },
     "output_type": "display_data"
    }
   ],
   "source": [
    "metrics_('K-Nearest Neighbors', test_y,ypred_knn2)\n",
    "cf_plot('K-Nearest Neighbors', test_y,ypred_knn2)"
   ]
  },
  {
   "cell_type": "code",
   "execution_count": 41,
   "id": "official-copying",
   "metadata": {},
   "outputs": [],
   "source": [
    "# Logistic Regression"
   ]
  },
  {
   "cell_type": "code",
   "execution_count": 42,
   "id": "under-antenna",
   "metadata": {},
   "outputs": [],
   "source": [
    "lr1 = LogisticRegression(C=0.01, solver='liblinear', class_weight='balanced')\n",
    "lr1.fit(train_X_rs_un, train_y_rs_un)\n",
    "ypred_lr1 = lr1.predict(test_X)\n",
    "ypred_lr1_prob = lr1.predict_proba(test_X)"
   ]
  },
  {
   "cell_type": "code",
   "execution_count": 43,
   "id": "broken-creativity",
   "metadata": {},
   "outputs": [
    {
     "name": "stdout",
     "output_type": "stream",
     "text": [
      "For model Logistic Regression:\n",
      "\n",
      "accuracy score : 0.9428244711263579\n",
      "Recall score : 0.9050279329608939\n",
      "precision score : 0.46956521739130436\n",
      "F1 score : 0.6183206106870229\n",
      "\n",
      "Confusion Matrix for Logistic Regression is:\n",
      "\n"
     ]
    },
    {
     "data": {
      "image/png": "[encoded data removed]",
      "text/plain": [
       "<Figure size 720x504 with 2 Axes>"
      ]
     },
     "metadata": {
      "needs_background": "light"
     },
     "output_type": "display_data"
    }
   ],
   "source": [
    "metrics_('Logistic Regression', test_y,ypred_lr1)\n",
    "cf_plot('Logistic Regression', test_y,ypred_lr1)"
   ]
  },
  {
   "cell_type": "markdown",
   "id": "substantial-monte",
   "metadata": {},
   "source": [
    "> Logistic Regression doesn't offer us any good prediction than k-NN after resampling(under). Precision & F1 scores are too poor to go with. Let's try defining grid search parameters and then hyperparameter tuning the dataset(train), if it falls short, then We will better apply another classifier like Random Forest."
   ]
  },
  {
   "cell_type": "code",
   "execution_count": 44,
   "id": "careful-exhibition",
   "metadata": {},
   "outputs": [
    {
     "name": "stdout",
     "output_type": "stream",
     "text": [
      "Fitting 10 folds for each of 30 candidates, totalling 300 fits\n"
     ]
    }
   ],
   "source": [
    "from sklearn.model_selection import GridSearchCV\n",
    "\n",
    "param_grid_lr2 = {'max_iter': [20, 50, 100, 200, 500, 1000],'solver': ['newton-cg', 'lbfgs', 'liblinear', 'sag', 'saga'],\n",
    "                  'class_weight': ['balanced']}\n",
    "\n",
    "lr2_grid = GridSearchCV(estimator=LogisticRegression(random_state=1234), param_grid=param_grid_lr2, verbose=1, cv=10, n_jobs=-1)\n",
    "lr2_grid.fit(train_X_rs_un, train_y_rs_un)\n",
    "ypred_lr2 = lr2_grid.predict(test_X)\n",
    "ypred_lr2_prob = lr2_grid.predict_proba(test_X)"
   ]
  },
  {
   "cell_type": "code",
   "execution_count": 45,
   "id": "treated-dance",
   "metadata": {},
   "outputs": [
    {
     "name": "stdout",
     "output_type": "stream",
     "text": [
      "For model Logistic Regression after grid search:\n",
      "\n",
      "accuracy score : 0.9439679817038308\n",
      "Recall score : 0.9050279329608939\n",
      "precision score : 0.4750733137829912\n",
      "F1 score : 0.6230769230769231\n",
      "\n",
      "Confusion Matrix for Logistic Regression after grid search is:\n",
      "\n"
     ]
    },
    {
     "data": {
      "image/png": "[encoded data removed]",
      "text/plain": [
       "<Figure size 720x504 with 2 Axes>"
      ]
     },
     "metadata": {
      "needs_background": "light"
     },
     "output_type": "display_data"
    }
   ],
   "source": [
    "metrics_('Logistic Regression after grid search', test_y,ypred_lr2)\n",
    "cf_plot('Logistic Regression after grid search', test_y,ypred_lr2)"
   ]
  },
  {
   "cell_type": "markdown",
   "id": "sacred-limitation",
   "metadata": {},
   "source": [
    "> It is not good enough to give us good predictions even after applying sampling and hyperparameter tuning. Let's hop off to Random Forest"
   ]
  },
  {
   "cell_type": "code",
   "execution_count": 46,
   "id": "funded-financing",
   "metadata": {},
   "outputs": [],
   "source": [
    "# Random Forest"
   ]
  },
  {
   "cell_type": "code",
   "execution_count": 47,
   "id": "qualified-lightweight",
   "metadata": {},
   "outputs": [],
   "source": [
    "rf2 = RandomForestClassifier(n_estimators = 100, criterion = 'entropy', random_state = 0)\n",
    "rf2.fit(train_X_rs_un, train_y_rs_un)\n",
    "ypred_rf2 = rf2.predict(test_X)"
   ]
  },
  {
   "cell_type": "code",
   "execution_count": 48,
   "id": "female-provider",
   "metadata": {},
   "outputs": [
    {
     "name": "stdout",
     "output_type": "stream",
     "text": [
      "For model Random Forest(under sampling):\n",
      "\n",
      "accuracy score : 0.9731275014293882\n",
      "Recall score : 0.88268156424581\n",
      "precision score : 0.683982683982684\n",
      "F1 score : 0.7707317073170732\n",
      "\n",
      "Confusion Matrix for Random Forest(under sampling) is:\n",
      "\n"
     ]
    },
    {
     "data": {
      "image/png": "[encoded data removed]",
      "text/plain": [
       "<Figure size 720x504 with 2 Axes>"
      ]
     },
     "metadata": {
      "needs_background": "light"
     },
     "output_type": "display_data"
    }
   ],
   "source": [
    "metrics_('Random Forest(under sampling)' , test_y, ypred_rf2)\n",
    "cf_plot('Random Forest(under sampling)' , test_y, ypred_rf2)"
   ]
  },
  {
   "cell_type": "code",
   "execution_count": 49,
   "id": "fuzzy-immune",
   "metadata": {},
   "outputs": [
    {
     "data": {
      "text/plain": [
       "Text(0.5, 1.0, '2-class Precision-Recall curve')"
      ]
     },
     "execution_count": 49,
     "metadata": {},
     "output_type": "execute_result"
    },
    {
     "data": {
      "image/png": "[encoded data removed]",
      "text/plain": [
       "<Figure size 432x288 with 1 Axes>"
      ]
     },
     "metadata": {
      "needs_background": "light"
     },
     "output_type": "display_data"
    }
   ],
   "source": [
    "metrics.plot_precision_recall_curve(rf2, test_X, test_y)\n",
    "plt.title('2-class Precision-Recall curve')"
   ]
  },
  {
   "cell_type": "markdown",
   "id": "fixed-corporation",
   "metadata": {},
   "source": [
    "#### Feature Importances"
   ]
  },
  {
   "cell_type": "code",
   "execution_count": 50,
   "id": "compound-customs",
   "metadata": {},
   "outputs": [
    {
     "data": {
      "image/png": "[encoded data removed]",
      "text/plain": [
       "<Figure size 1080x576 with 1 Axes>"
      ]
     },
     "metadata": {
      "needs_background": "light"
     },
     "output_type": "display_data"
    }
   ],
   "source": [
    "feature_imp(rf2)"
   ]
  },
  {
   "cell_type": "markdown",
   "id": "annoying-nepal",
   "metadata": {},
   "source": [
    "### Let's summarize the score values of these above classifiers(after under sampling) in one single dataframe"
   ]
  },
  {
   "cell_type": "code",
   "execution_count": 51,
   "id": "oriented-warrior",
   "metadata": {},
   "outputs": [],
   "source": [
    "acc1 = np.round([metrics.accuracy_score(test_y,ypred_knn2),metrics.accuracy_score(test_y,ypred_lr2),\n",
    "       metrics.accuracy_score(test_y,ypred_rf2)],3)\n",
    "rc1 = np.round([metrics.recall_score(test_y,ypred_knn2),metrics.recall_score(test_y,ypred_lr2),\n",
    "               metrics.recall_score(test_y,ypred_rf2)],3)\n",
    "pr1 = np.round([metrics.precision_score(test_y,ypred_knn2),metrics.precision_score(test_y,ypred_lr2),\n",
    "               metrics.precision_score(test_y,ypred_rf2)],3)\n",
    "f1_1 = np.round([metrics.f1_score(test_y,ypred_knn2),metrics.f1_score(test_y,ypred_lr2),\n",
    "               metrics.f1_score(test_y,ypred_rf2)],3)\n",
    "\n",
    "\n",
    "dataframe1 = pd.DataFrame({'Models':Models , 'Recall/Sensitivity':rc1 , 'Accuracy_Score':acc1 , 'Precision':pr1 , 'F1_Score':f1_1})"
   ]
  },
  {
   "cell_type": "markdown",
   "id": "strong-jason",
   "metadata": {},
   "source": [
    "### \n",
    "<h3 align=\"center\"> ii) Random Over Sampling <h3/>"
   ]
  },
  {
   "cell_type": "markdown",
   "id": "commercial-legend",
   "metadata": {},
   "source": [
    "> It adds random samples to minority class(here, Fraud class)"
   ]
  },
  {
   "attachments": {
    "over.png": {
     "image/png": "[encoded data removed]"
    }
   },
   "cell_type": "markdown",
   "id": "lonely-moisture",
   "metadata": {},
   "source": [
    "![over.png](attachment:over.png)"
   ]
  },
  {
   "cell_type": "code",
   "execution_count": 52,
   "id": "multiple-zoning",
   "metadata": {},
   "outputs": [],
   "source": [
    "from imblearn.over_sampling import RandomOverSampler\n",
    "\n",
    "rs_ov = RandomOverSampler(random_state=42)\n",
    "train_X_rs_ov, train_y_rs_ov = rs_ov.fit_resample(train_X, train_y)"
   ]
  },
  {
   "cell_type": "code",
   "execution_count": 53,
   "id": "immune-constraint",
   "metadata": {},
   "outputs": [],
   "source": [
    "# K-Nearest Neighbors"
   ]
  },
  {
   "cell_type": "code",
   "execution_count": 54,
   "id": "impossible-massage",
   "metadata": {},
   "outputs": [
    {
     "data": {
      "image/png": "[encoded data removed]",
      "text/plain": [
       "<Figure size 432x288 with 1 Axes>"
      ]
     },
     "metadata": {
      "needs_background": "light"
     },
     "output_type": "display_data"
    }
   ],
   "source": [
    "Ks = 10\n",
    "mean_acc = np.zeros((Ks-1))\n",
    "std_acc = np.zeros((Ks-1))\n",
    "\n",
    "for n in range(1,Ks):\n",
    "    \n",
    "    #Train Model and Predict  \n",
    "    knn = KNeighborsClassifier(n_neighbors = n).fit(train_X_rs_ov, train_y_rs_ov)\n",
    "    ypred_knn = knn.predict(test_X)\n",
    "    mean_acc[n-1] = metrics.accuracy_score(test_y, ypred_knn)    \n",
    "    std_acc[n-1]=np.std(ypred_knn==test_y)/np.sqrt(ypred_knn.shape[0])\n",
    "\n",
    "plt.plot(range(1,Ks),mean_acc,'g')\n",
    "plt.fill_between(range(1,Ks),mean_acc - 1 * std_acc,mean_acc + 1 * std_acc, alpha=0.10)\n",
    "plt.fill_between(range(1,Ks),mean_acc - 3 * std_acc,mean_acc + 3 * std_acc, alpha=0.10,color=\"red\")\n",
    "plt.legend(('Accuracy ', '+/- 1xstd','+/- 3xstd'))\n",
    "plt.ylabel('Accuracy ')\n",
    "plt.xlabel('Number of Neighbors (K)')\n",
    "plt.tight_layout()\n",
    "plt.show()"
   ]
  },
  {
   "cell_type": "code",
   "execution_count": 55,
   "id": "vocational-stuart",
   "metadata": {},
   "outputs": [
    {
     "name": "stdout",
     "output_type": "stream",
     "text": [
      "The best accuracy was with 0.989 with k= 1\n"
     ]
    }
   ],
   "source": [
    "print( \"The best accuracy was with\", np.round(mean_acc.max(),3), \"with k=\", mean_acc.argmax()+1)"
   ]
  },
  {
   "cell_type": "code",
   "execution_count": 56,
   "id": "configured-response",
   "metadata": {},
   "outputs": [],
   "source": [
    "# After resampling(over) final prediction using k = 1\n",
    "\n",
    "knn3 = KNeighborsClassifier(n_neighbors = 1)\n",
    "knn3.fit(train_X_rs_ov, train_y_rs_ov)\n",
    "ypred_knn3 = knn3.predict(test_X)"
   ]
  },
  {
   "cell_type": "code",
   "execution_count": 57,
   "id": "sized-detection",
   "metadata": {},
   "outputs": [
    {
     "name": "stdout",
     "output_type": "stream",
     "text": [
      "For model K-Nearest Neighbors:\n",
      "\n",
      "accuracy score : 0.9894225271583762\n",
      "Recall score : 0.8547486033519553\n",
      "precision score : 0.9329268292682927\n",
      "F1 score : 0.8921282798833818\n",
      "\n",
      "Confusion Matrix for K-Nearest Neighbors is:\n",
      "\n"
     ]
    },
    {
     "data": {
      "image/png": "[encoded data removed]",
      "text/plain": [
       "<Figure size 720x504 with 2 Axes>"
      ]
     },
     "metadata": {
      "needs_background": "light"
     },
     "output_type": "display_data"
    }
   ],
   "source": [
    "metrics_('K-Nearest Neighbors', test_y,ypred_knn3)\n",
    "cf_plot('K-Nearest Neighbors', test_y,ypred_knn3)"
   ]
  },
  {
   "cell_type": "code",
   "execution_count": 58,
   "id": "royal-calendar",
   "metadata": {},
   "outputs": [],
   "source": [
    "# Logistic Regression"
   ]
  },
  {
   "cell_type": "code",
   "execution_count": 59,
   "id": "collaborative-cover",
   "metadata": {},
   "outputs": [
    {
     "name": "stdout",
     "output_type": "stream",
     "text": [
      "Fitting 10 folds for each of 30 candidates, totalling 300 fits\n"
     ]
    }
   ],
   "source": [
    "param_grid_lr3 = {'max_iter': [20, 50, 100, 200, 500, 1000],'solver': ['newton-cg', 'lbfgs', 'liblinear', 'sag', 'saga'],\n",
    "                  'class_weight': ['balanced']}\n",
    "\n",
    "lr3_grid = GridSearchCV(estimator=LogisticRegression(random_state=1234), param_grid=param_grid_lr3, verbose=1, cv=10, n_jobs=-1)\n",
    "lr3_grid.fit(train_X_rs_ov, train_y_rs_ov)\n",
    "ypred_lr3 = lr3_grid.predict(test_X)\n",
    "ypred_lr3_prob = lr3_grid.predict_proba(test_X)"
   ]
  },
  {
   "cell_type": "code",
   "execution_count": 60,
   "id": "broke-spider",
   "metadata": {},
   "outputs": [
    {
     "name": "stdout",
     "output_type": "stream",
     "text": [
      "For model Logistic Regression after grid search(over):\n",
      "\n",
      "accuracy score : 0.9742710120068611\n",
      "Recall score : 0.88268156424581\n",
      "precision score : 0.6960352422907489\n",
      "F1 score : 0.7783251231527094\n",
      "\n",
      "Confusion Matrix for Logistic Regression after grid search(over) is:\n",
      "\n"
     ]
    },
    {
     "data": {
      "image/png": "[encoded data removed]",
      "text/plain": [
       "<Figure size 720x504 with 2 Axes>"
      ]
     },
     "metadata": {
      "needs_background": "light"
     },
     "output_type": "display_data"
    }
   ],
   "source": [
    "metrics_('Logistic Regression after grid search(over)', test_y,ypred_lr3)\n",
    "cf_plot('Logistic Regression after grid search(over)', test_y,ypred_lr3)"
   ]
  },
  {
   "cell_type": "code",
   "execution_count": 61,
   "id": "verbal-wyoming",
   "metadata": {},
   "outputs": [],
   "source": [
    "# Random Forest"
   ]
  },
  {
   "cell_type": "code",
   "execution_count": 62,
   "id": "exotic-continent",
   "metadata": {},
   "outputs": [],
   "source": [
    "rf3 = RandomForestClassifier(n_estimators = 100, criterion = 'entropy', random_state = 0)\n",
    "rf3.fit(train_X_rs_ov, train_y_rs_ov)\n",
    "ypred_rf3 = rf3.predict(test_X)"
   ]
  },
  {
   "cell_type": "code",
   "execution_count": 63,
   "id": "national-sullivan",
   "metadata": {},
   "outputs": [
    {
     "name": "stdout",
     "output_type": "stream",
     "text": [
      "For model Random Forest(over sampling):\n",
      "\n",
      "accuracy score : 0.9919954259576901\n",
      "Recall score : 0.8547486033519553\n",
      "precision score : 0.9870967741935484\n",
      "F1 score : 0.9161676646706587\n",
      "\n",
      "Confusion Matrix for Random Forest(over sampling) is:\n",
      "\n"
     ]
    },
    {
     "data": {
      "image/png": "[encoded data removed]",
      "text/plain": [
       "<Figure size 720x504 with 2 Axes>"
      ]
     },
     "metadata": {
      "needs_background": "light"
     },
     "output_type": "display_data"
    }
   ],
   "source": [
    "metrics_('Random Forest(over sampling)' , test_y, ypred_rf3)\n",
    "cf_plot('Random Forest(over sampling)' , test_y, ypred_rf3)"
   ]
  },
  {
   "cell_type": "code",
   "execution_count": 64,
   "id": "vanilla-clause",
   "metadata": {},
   "outputs": [
    {
     "data": {
      "image/png": "[encoded data removed]",
      "text/plain": [
       "<Figure size 1080x576 with 1 Axes>"
      ]
     },
     "metadata": {
      "needs_background": "light"
     },
     "output_type": "display_data"
    }
   ],
   "source": [
    "feature_imp(rf3)"
   ]
  },
  {
   "cell_type": "code",
   "execution_count": 65,
   "id": "confirmed-minnesota",
   "metadata": {},
   "outputs": [
    {
     "data": {
      "text/html": [
       "<div>\n",
       "<style scoped>\n",
       "    .dataframe tbody tr th:only-of-type {\n",
       "        vertical-align: middle;\n",
       "    }\n",
       "\n",
       "    .dataframe tbody tr th {\n",
       "        vertical-align: top;\n",
       "    }\n",
       "\n",
       "    .dataframe thead th {\n",
       "        text-align: right;\n",
       "    }\n",
       "</style>\n",
       "<table border=\"1\" class=\"dataframe\">\n",
       "  <thead>\n",
       "    <tr style=\"text-align: right;\">\n",
       "      <th></th>\n",
       "      <th>Models</th>\n",
       "      <th>Recall/Sensitivity</th>\n",
       "      <th>Accuracy_Score</th>\n",
       "      <th>Precision</th>\n",
       "      <th>F1_Score</th>\n",
       "    </tr>\n",
       "  </thead>\n",
       "  <tbody>\n",
       "    <tr>\n",
       "      <th>0</th>\n",
       "      <td>K-NN</td>\n",
       "      <td>0.855</td>\n",
       "      <td>0.989</td>\n",
       "      <td>0.933</td>\n",
       "      <td>0.892</td>\n",
       "    </tr>\n",
       "    <tr>\n",
       "      <th>1</th>\n",
       "      <td>Logistic</td>\n",
       "      <td>0.883</td>\n",
       "      <td>0.974</td>\n",
       "      <td>0.696</td>\n",
       "      <td>0.778</td>\n",
       "    </tr>\n",
       "    <tr>\n",
       "      <th>2</th>\n",
       "      <td>Random Forest</td>\n",
       "      <td>0.855</td>\n",
       "      <td>0.992</td>\n",
       "      <td>0.987</td>\n",
       "      <td>0.916</td>\n",
       "    </tr>\n",
       "  </tbody>\n",
       "</table>\n",
       "</div>"
      ],
      "text/plain": [
       "          Models  Recall/Sensitivity  Accuracy_Score  Precision  F1_Score\n",
       "0           K-NN               0.855           0.989      0.933     0.892\n",
       "1       Logistic               0.883           0.974      0.696     0.778\n",
       "2  Random Forest               0.855           0.992      0.987     0.916"
      ]
     },
     "execution_count": 65,
     "metadata": {},
     "output_type": "execute_result"
    }
   ],
   "source": [
    "acc2 = np.round([metrics.accuracy_score(test_y,ypred_knn3),metrics.accuracy_score(test_y,ypred_lr3),\n",
    "       metrics.accuracy_score(test_y,ypred_rf3)],3)\n",
    "rc2 = np.round([metrics.recall_score(test_y,ypred_knn3),metrics.recall_score(test_y,ypred_lr3),\n",
    "               metrics.recall_score(test_y,ypred_rf3)],3)\n",
    "pr2 = np.round([metrics.precision_score(test_y,ypred_knn3),metrics.precision_score(test_y,ypred_lr3),\n",
    "               metrics.precision_score(test_y,ypred_rf3)],3)\n",
    "f1_2 = np.round([metrics.f1_score(test_y,ypred_knn3),metrics.f1_score(test_y,ypred_lr3),\n",
    "               metrics.f1_score(test_y,ypred_rf3)],3)\n",
    "\n",
    "\n",
    "dataframe2 = pd.DataFrame({'Models':Models , 'Recall/Sensitivity':rc2 , 'Accuracy_Score':acc2 , \n",
    "                           'Precision':pr2 , 'F1_Score':f1_2})\n",
    "dataframe2"
   ]
  },
  {
   "cell_type": "markdown",
   "id": "supported-thomson",
   "metadata": {},
   "source": [
    "### \n",
    "<h3 align=\"center\"> iii) SMOTE [Synthetic Minority Over-sampling Technique] <h3/>"
   ]
  },
  {
   "cell_type": "markdown",
   "id": "local-silence",
   "metadata": {},
   "source": [
    "> It takes a random point out of the minority class, perform K-NN. The synthetic points are added between that point and its neighbors. It then increases the number of cases in the dataset in a balanced way."
   ]
  },
  {
   "attachments": {
    "smote.png": {
     "image/png": "[encoded data removed]"
    }
   },
   "cell_type": "markdown",
   "id": "encouraging-vancouver",
   "metadata": {},
   "source": [
    "![smote.png](attachment:smote.png)"
   ]
  },
  {
   "cell_type": "code",
   "execution_count": 66,
   "id": "monthly-power",
   "metadata": {},
   "outputs": [],
   "source": [
    "from imblearn.over_sampling import SMOTE\n",
    "\n",
    "sm = SMOTE(random_state=42)\n",
    "\n",
    "train_X_sm, train_y_sm = sm.fit_resample(train_X, train_y)"
   ]
  },
  {
   "cell_type": "code",
   "execution_count": 67,
   "id": "assumed-general",
   "metadata": {},
   "outputs": [],
   "source": [
    "# K-Nearest Neighbors"
   ]
  },
  {
   "cell_type": "code",
   "execution_count": 68,
   "id": "addressed-march",
   "metadata": {},
   "outputs": [
    {
     "data": {
      "image/png": "[encoded data removed]",
      "text/plain": [
       "<Figure size 432x288 with 1 Axes>"
      ]
     },
     "metadata": {
      "needs_background": "light"
     },
     "output_type": "display_data"
    }
   ],
   "source": [
    "Ks = 10\n",
    "mean_acc = np.zeros((Ks-1))\n",
    "std_acc = np.zeros((Ks-1))\n",
    "\n",
    "for n in range(1,Ks):\n",
    "    \n",
    "    #Train Model and Predict  \n",
    "    knn = KNeighborsClassifier(n_neighbors = n).fit(train_X_sm, train_y_sm)\n",
    "    ypred_knn = knn.predict(test_X)\n",
    "    mean_acc[n-1] = metrics.accuracy_score(test_y, ypred_knn)    \n",
    "    std_acc[n-1]=np.std(ypred_knn==test_y)/np.sqrt(ypred_knn.shape[0])\n",
    "\n",
    "plt.plot(range(1,Ks),mean_acc,'g')\n",
    "plt.fill_between(range(1,Ks),mean_acc - 1 * std_acc,mean_acc + 1 * std_acc, alpha=0.10)\n",
    "plt.fill_between(range(1,Ks),mean_acc - 3 * std_acc,mean_acc + 3 * std_acc, alpha=0.10,color=\"red\")\n",
    "plt.legend(('Accuracy ', '+/- 1xstd','+/- 3xstd'))\n",
    "plt.ylabel('Accuracy ')\n",
    "plt.xlabel('Number of Neighbors (K)')\n",
    "plt.tight_layout()\n",
    "plt.show()"
   ]
  },
  {
   "cell_type": "code",
   "execution_count": 69,
   "id": "opposed-standard",
   "metadata": {},
   "outputs": [
    {
     "name": "stdout",
     "output_type": "stream",
     "text": [
      "The best accuracy was with 0.986 with k= 2\n"
     ]
    }
   ],
   "source": [
    "print( \"The best accuracy was with\", np.round(mean_acc.max(),3), \"with k=\", mean_acc.argmax()+1)"
   ]
  },
  {
   "cell_type": "code",
   "execution_count": 70,
   "id": "turkish-criterion",
   "metadata": {},
   "outputs": [],
   "source": [
    "# After resampling(over) final prediction using k = 2\n",
    "\n",
    "knn4 = KNeighborsClassifier(n_neighbors = 2)\n",
    "knn4.fit(train_X_sm, train_y_sm)\n",
    "ypred_knn4 = knn4.predict(test_X)"
   ]
  },
  {
   "cell_type": "code",
   "execution_count": 71,
   "id": "crude-stations",
   "metadata": {},
   "outputs": [
    {
     "name": "stdout",
     "output_type": "stream",
     "text": [
      "For model K-Nearest Neighbors:\n",
      "\n",
      "accuracy score : 0.9857061177815895\n",
      "Recall score : 0.8715083798882681\n",
      "precision score : 0.8524590163934426\n",
      "F1 score : 0.861878453038674\n",
      "\n",
      "Confusion Matrix for K-Nearest Neighbors is:\n",
      "\n"
     ]
    },
    {
     "data": {
      "image/png": "[encoded data removed]",
      "text/plain": [
       "<Figure size 720x504 with 2 Axes>"
      ]
     },
     "metadata": {
      "needs_background": "light"
     },
     "output_type": "display_data"
    }
   ],
   "source": [
    "metrics_('K-Nearest Neighbors', test_y,ypred_knn4)\n",
    "cf_plot('K-Nearest Neighbors', test_y,ypred_knn4)"
   ]
  },
  {
   "cell_type": "code",
   "execution_count": 72,
   "id": "aboriginal-genesis",
   "metadata": {},
   "outputs": [],
   "source": [
    "# Logistic Regression"
   ]
  },
  {
   "cell_type": "code",
   "execution_count": 73,
   "id": "federal-facility",
   "metadata": {},
   "outputs": [
    {
     "name": "stdout",
     "output_type": "stream",
     "text": [
      "Fitting 10 folds for each of 30 candidates, totalling 300 fits\n"
     ]
    }
   ],
   "source": [
    "param_grid_lr4 = {'max_iter': [20, 50, 100, 200, 500, 1000],'solver': ['newton-cg', 'lbfgs', 'liblinear', 'sag', 'saga'],\n",
    "                  'class_weight': ['balanced']}\n",
    "\n",
    "lr4_grid = GridSearchCV(estimator=LogisticRegression(random_state=1234), param_grid=param_grid_lr4, verbose=1, cv=10, n_jobs=-1)\n",
    "lr4_grid.fit(train_X_sm, train_y_sm)\n",
    "ypred_lr4 = lr4_grid.predict(test_X)\n",
    "ypred_lr4_prob = lr4_grid.predict_proba(test_X)"
   ]
  },
  {
   "cell_type": "code",
   "execution_count": 74,
   "id": "female-complaint",
   "metadata": {},
   "outputs": [
    {
     "name": "stdout",
     "output_type": "stream",
     "text": [
      "For model Logistic Regression after grid search(over):\n",
      "\n",
      "accuracy score : 0.9716981132075472\n",
      "Recall score : 0.888268156424581\n",
      "precision score : 0.6680672268907563\n",
      "F1 score : 0.7625899280575539\n",
      "\n",
      "Confusion Matrix for Logistic Regression after grid search(over) is:\n",
      "\n"
     ]
    },
    {
     "data": {
      "image/png": "[encoded data removed]",
      "text/plain": [
       "<Figure size 720x504 with 2 Axes>"
      ]
     },
     "metadata": {
      "needs_background": "light"
     },
     "output_type": "display_data"
    }
   ],
   "source": [
    "metrics_('Logistic Regression after grid search(over)', test_y,ypred_lr4)\n",
    "cf_plot('Logistic Regression after grid search(over)', test_y,ypred_lr4)"
   ]
  },
  {
   "cell_type": "code",
   "execution_count": 75,
   "id": "adjacent-mainstream",
   "metadata": {},
   "outputs": [],
   "source": [
    "# Random Forest"
   ]
  },
  {
   "cell_type": "code",
   "execution_count": 76,
   "id": "stupid-blast",
   "metadata": {},
   "outputs": [],
   "source": [
    "rf4 = RandomForestClassifier(n_estimators = 100, criterion = 'entropy', random_state = 0)\n",
    "rf4.fit(train_X_sm, train_y_sm)\n",
    "ypred_rf4 = rf4.predict(test_X)"
   ]
  },
  {
   "cell_type": "code",
   "execution_count": 77,
   "id": "desirable-freeware",
   "metadata": {},
   "outputs": [
    {
     "name": "stdout",
     "output_type": "stream",
     "text": [
      "For model Random Forest(Smote):\n",
      "\n",
      "accuracy score : 0.9897084048027445\n",
      "Recall score : 0.8603351955307262\n",
      "precision score : 0.9333333333333333\n",
      "F1 score : 0.8953488372093025\n",
      "\n"
     ]
    }
   ],
   "source": [
    "metrics_('Random Forest(Smote)',test_y,ypred_rf4)"
   ]
  },
  {
   "cell_type": "code",
   "execution_count": 78,
   "id": "suburban-pricing",
   "metadata": {},
   "outputs": [
    {
     "name": "stdout",
     "output_type": "stream",
     "text": [
      "Confusion Matrix for Random Forest(Smote) is:\n",
      "\n"
     ]
    },
    {
     "data": {
      "image/png": "[encoded data removed]",
      "text/plain": [
       "<Figure size 720x504 with 2 Axes>"
      ]
     },
     "metadata": {
      "needs_background": "light"
     },
     "output_type": "display_data"
    }
   ],
   "source": [
    "cf_plot('Random Forest(Smote)',test_y,ypred_rf4)"
   ]
  },
  {
   "cell_type": "code",
   "execution_count": 79,
   "id": "institutional-tumor",
   "metadata": {},
   "outputs": [],
   "source": [
    "# XGB Classifier"
   ]
  },
  {
   "cell_type": "code",
   "execution_count": 80,
   "id": "australian-press",
   "metadata": {},
   "outputs": [
    {
     "name": "stdout",
     "output_type": "stream",
     "text": [
      "[01:37:06] WARNING: C:/Users/Administrator/workspace/xgboost-win64_release_1.4.0/src/learner.cc:1095: Starting in XGBoost 1.3.0, the default evaluation metric used with the objective 'binary:logistic' was changed from 'error' to 'logloss'. Explicitly set eval_metric if you'd like to restore the old behavior.\n",
      "For model XGBoost:\n",
      "\n",
      "accuracy score : 0.9874213836477987\n",
      "Recall score : 0.8715083798882681\n",
      "precision score : 0.8813559322033898\n",
      "F1 score : 0.8764044943820224\n",
      "\n",
      "Confusion Matrix for XGBoost is:\n",
      "\n"
     ]
    },
    {
     "data": {
      "image/png": "[encoded data removed]",
      "text/plain": [
       "<Figure size 720x504 with 2 Axes>"
      ]
     },
     "metadata": {
      "needs_background": "light"
     },
     "output_type": "display_data"
    }
   ],
   "source": [
    "xgb1 = XGBClassifier()\n",
    "xgb1.fit(train_X_sm, train_y_sm)\n",
    "ypred_xgb1 = xgb1.predict(test_X)\n",
    "metrics_('XGBoost', test_y, ypred_xgb1)\n",
    "cf_plot('XGBoost', test_y, ypred_xgb1)"
   ]
  },
  {
   "cell_type": "code",
   "execution_count": 81,
   "id": "prostate-court",
   "metadata": {},
   "outputs": [],
   "source": [
    "acc3 = np.round([metrics.accuracy_score(test_y,ypred_knn4),metrics.accuracy_score(test_y,ypred_lr4),\n",
    "       metrics.accuracy_score(test_y,ypred_rf4)],3)\n",
    "rc3 = np.round([metrics.recall_score(test_y,ypred_knn4),metrics.recall_score(test_y,ypred_lr4),\n",
    "               metrics.recall_score(test_y,ypred_rf4)],3)\n",
    "pr3 = np.round([metrics.precision_score(test_y,ypred_knn4),metrics.precision_score(test_y,ypred_lr4),\n",
    "               metrics.precision_score(test_y,ypred_rf4)],3)\n",
    "f1_3 = np.round([metrics.f1_score(test_y,ypred_knn4),metrics.f1_score(test_y,ypred_lr4),\n",
    "               metrics.f1_score(test_y,ypred_rf4)],3)\n",
    "\n",
    "\n",
    "dataframe3 = pd.DataFrame({'Models':Models , 'Recall/Sensitivity':rc3 , 'Accuracy_Score':acc3 , \n",
    "                           'Precision':pr3 , 'F1_Score':f1_3})"
   ]
  },
  {
   "cell_type": "markdown",
   "id": "radical-pressing",
   "metadata": {},
   "source": [
    "###  Now let's go over some comparisons between these scores dataframes"
   ]
  },
  {
   "cell_type": "code",
   "execution_count": 82,
   "id": "southeast-strand",
   "metadata": {
    "scrolled": true
   },
   "outputs": [
    {
     "name": "stdout",
     "output_type": "stream",
     "text": [
      "\n",
      "Comparison between the default and undersampled scores datasets:\n"
     ]
    },
    {
     "data": {
      "text/html": [
       "<div>\n",
       "<style scoped>\n",
       "    .dataframe tbody tr th:only-of-type {\n",
       "        vertical-align: middle;\n",
       "    }\n",
       "\n",
       "    .dataframe tbody tr th {\n",
       "        vertical-align: top;\n",
       "    }\n",
       "\n",
       "    .dataframe thead tr th {\n",
       "        text-align: left;\n",
       "    }\n",
       "\n",
       "    .dataframe thead tr:last-of-type th {\n",
       "        text-align: right;\n",
       "    }\n",
       "</style>\n",
       "<table border=\"1\" class=\"dataframe\">\n",
       "  <thead>\n",
       "    <tr>\n",
       "      <th></th>\n",
       "      <th colspan=\"2\" halign=\"left\">Recall/Sensitivity</th>\n",
       "      <th colspan=\"2\" halign=\"left\">Accuracy_Score</th>\n",
       "      <th colspan=\"2\" halign=\"left\">Precision</th>\n",
       "      <th colspan=\"2\" halign=\"left\">F1_Score</th>\n",
       "    </tr>\n",
       "    <tr>\n",
       "      <th></th>\n",
       "      <th>self</th>\n",
       "      <th>other</th>\n",
       "      <th>self</th>\n",
       "      <th>other</th>\n",
       "      <th>self</th>\n",
       "      <th>other</th>\n",
       "      <th>self</th>\n",
       "      <th>other</th>\n",
       "    </tr>\n",
       "    <tr>\n",
       "      <th>Models</th>\n",
       "      <th></th>\n",
       "      <th></th>\n",
       "      <th></th>\n",
       "      <th></th>\n",
       "      <th></th>\n",
       "      <th></th>\n",
       "      <th></th>\n",
       "      <th></th>\n",
       "    </tr>\n",
       "  </thead>\n",
       "  <tbody>\n",
       "    <tr>\n",
       "      <th>K-NN</th>\n",
       "      <td>0.849</td>\n",
       "      <td>0.877</td>\n",
       "      <td>0.992</td>\n",
       "      <td>0.980</td>\n",
       "      <td>0.987</td>\n",
       "      <td>0.770</td>\n",
       "      <td>0.913</td>\n",
       "      <td>0.820</td>\n",
       "    </tr>\n",
       "    <tr>\n",
       "      <th>Logistic</th>\n",
       "      <td>0.821</td>\n",
       "      <td>0.905</td>\n",
       "      <td>0.990</td>\n",
       "      <td>0.944</td>\n",
       "      <td>0.974</td>\n",
       "      <td>0.475</td>\n",
       "      <td>0.891</td>\n",
       "      <td>0.623</td>\n",
       "    </tr>\n",
       "    <tr>\n",
       "      <th>Random Forest</th>\n",
       "      <td>0.849</td>\n",
       "      <td>0.883</td>\n",
       "      <td>0.992</td>\n",
       "      <td>0.973</td>\n",
       "      <td>0.987</td>\n",
       "      <td>0.684</td>\n",
       "      <td>0.913</td>\n",
       "      <td>0.771</td>\n",
       "    </tr>\n",
       "  </tbody>\n",
       "</table>\n",
       "</div>"
      ],
      "text/plain": [
       "              Recall/Sensitivity        Accuracy_Score        Precision  \\\n",
       "                            self  other           self  other      self   \n",
       "Models                                                                    \n",
       "K-NN                       0.849  0.877          0.992  0.980     0.987   \n",
       "Logistic                   0.821  0.905          0.990  0.944     0.974   \n",
       "Random Forest              0.849  0.883          0.992  0.973     0.987   \n",
       "\n",
       "                     F1_Score         \n",
       "               other     self  other  \n",
       "Models                                \n",
       "K-NN           0.770    0.913  0.820  \n",
       "Logistic       0.475    0.891  0.623  \n",
       "Random Forest  0.684    0.913  0.771  "
      ]
     },
     "execution_count": 82,
     "metadata": {},
     "output_type": "execute_result"
    }
   ],
   "source": [
    "# Let's first try compairing the default score dataset with the score dataset obtained from undersampled classifiers\n",
    "\n",
    "print(\"\\nComparison between the default and undersampled scores datasets:\")\n",
    "X1 = dataframe.compare(dataframe1)\n",
    "X1[\"Models\"] = Models \n",
    "X1.reset_index(drop=True)\n",
    "X1.set_index('Models')"
   ]
  },
  {
   "cell_type": "code",
   "execution_count": 83,
   "id": "separate-shoulder",
   "metadata": {},
   "outputs": [
    {
     "name": "stdout",
     "output_type": "stream",
     "text": [
      "\n",
      "Comparison between the default and oversampled scores datasets:\n"
     ]
    },
    {
     "data": {
      "text/html": [
       "<div>\n",
       "<style scoped>\n",
       "    .dataframe tbody tr th:only-of-type {\n",
       "        vertical-align: middle;\n",
       "    }\n",
       "\n",
       "    .dataframe tbody tr th {\n",
       "        vertical-align: top;\n",
       "    }\n",
       "\n",
       "    .dataframe thead tr th {\n",
       "        text-align: left;\n",
       "    }\n",
       "\n",
       "    .dataframe thead tr:last-of-type th {\n",
       "        text-align: right;\n",
       "    }\n",
       "</style>\n",
       "<table border=\"1\" class=\"dataframe\">\n",
       "  <thead>\n",
       "    <tr>\n",
       "      <th></th>\n",
       "      <th colspan=\"2\" halign=\"left\">Recall/Sensitivity</th>\n",
       "      <th colspan=\"2\" halign=\"left\">Accuracy_Score</th>\n",
       "      <th colspan=\"2\" halign=\"left\">Precision</th>\n",
       "      <th colspan=\"2\" halign=\"left\">F1_Score</th>\n",
       "    </tr>\n",
       "    <tr>\n",
       "      <th></th>\n",
       "      <th>self</th>\n",
       "      <th>other</th>\n",
       "      <th>self</th>\n",
       "      <th>other</th>\n",
       "      <th>self</th>\n",
       "      <th>other</th>\n",
       "      <th>self</th>\n",
       "      <th>other</th>\n",
       "    </tr>\n",
       "    <tr>\n",
       "      <th>Models</th>\n",
       "      <th></th>\n",
       "      <th></th>\n",
       "      <th></th>\n",
       "      <th></th>\n",
       "      <th></th>\n",
       "      <th></th>\n",
       "      <th></th>\n",
       "      <th></th>\n",
       "    </tr>\n",
       "  </thead>\n",
       "  <tbody>\n",
       "    <tr>\n",
       "      <th>K-NN</th>\n",
       "      <td>0.849</td>\n",
       "      <td>0.855</td>\n",
       "      <td>0.992</td>\n",
       "      <td>0.989</td>\n",
       "      <td>0.987</td>\n",
       "      <td>0.933</td>\n",
       "      <td>0.913</td>\n",
       "      <td>0.892</td>\n",
       "    </tr>\n",
       "    <tr>\n",
       "      <th>Logistic</th>\n",
       "      <td>0.821</td>\n",
       "      <td>0.883</td>\n",
       "      <td>0.990</td>\n",
       "      <td>0.974</td>\n",
       "      <td>0.974</td>\n",
       "      <td>0.696</td>\n",
       "      <td>0.891</td>\n",
       "      <td>0.778</td>\n",
       "    </tr>\n",
       "    <tr>\n",
       "      <th>Random Forest</th>\n",
       "      <td>0.849</td>\n",
       "      <td>0.855</td>\n",
       "      <td>NaN</td>\n",
       "      <td>NaN</td>\n",
       "      <td>NaN</td>\n",
       "      <td>NaN</td>\n",
       "      <td>0.913</td>\n",
       "      <td>0.916</td>\n",
       "    </tr>\n",
       "  </tbody>\n",
       "</table>\n",
       "</div>"
      ],
      "text/plain": [
       "              Recall/Sensitivity        Accuracy_Score        Precision  \\\n",
       "                            self  other           self  other      self   \n",
       "Models                                                                    \n",
       "K-NN                       0.849  0.855          0.992  0.989     0.987   \n",
       "Logistic                   0.821  0.883          0.990  0.974     0.974   \n",
       "Random Forest              0.849  0.855            NaN    NaN       NaN   \n",
       "\n",
       "                     F1_Score         \n",
       "               other     self  other  \n",
       "Models                                \n",
       "K-NN           0.933    0.913  0.892  \n",
       "Logistic       0.696    0.891  0.778  \n",
       "Random Forest    NaN    0.913  0.916  "
      ]
     },
     "execution_count": 83,
     "metadata": {},
     "output_type": "execute_result"
    }
   ],
   "source": [
    "# compairing the default score dataset with the score dataset obtained from oversampled classifiers\n",
    "\n",
    "print(\"\\nComparison between the default and oversampled scores datasets:\")\n",
    "X2 = dataframe.compare(dataframe2)\n",
    "X2[\"Models\"] = Models;\n",
    "X2.reset_index(drop=True)\n",
    "X2.set_index('Models')"
   ]
  },
  {
   "cell_type": "code",
   "execution_count": 84,
   "id": "virtual-break",
   "metadata": {},
   "outputs": [
    {
     "name": "stdout",
     "output_type": "stream",
     "text": [
      "\n",
      "Comparison between the default and smote obtained scores datasets:\n"
     ]
    },
    {
     "data": {
      "text/html": [
       "<div>\n",
       "<style scoped>\n",
       "    .dataframe tbody tr th:only-of-type {\n",
       "        vertical-align: middle;\n",
       "    }\n",
       "\n",
       "    .dataframe tbody tr th {\n",
       "        vertical-align: top;\n",
       "    }\n",
       "\n",
       "    .dataframe thead tr th {\n",
       "        text-align: left;\n",
       "    }\n",
       "\n",
       "    .dataframe thead tr:last-of-type th {\n",
       "        text-align: right;\n",
       "    }\n",
       "</style>\n",
       "<table border=\"1\" class=\"dataframe\">\n",
       "  <thead>\n",
       "    <tr>\n",
       "      <th></th>\n",
       "      <th colspan=\"2\" halign=\"left\">Recall/Sensitivity</th>\n",
       "      <th colspan=\"2\" halign=\"left\">Accuracy_Score</th>\n",
       "      <th colspan=\"2\" halign=\"left\">Precision</th>\n",
       "      <th colspan=\"2\" halign=\"left\">F1_Score</th>\n",
       "    </tr>\n",
       "    <tr>\n",
       "      <th></th>\n",
       "      <th>self</th>\n",
       "      <th>other</th>\n",
       "      <th>self</th>\n",
       "      <th>other</th>\n",
       "      <th>self</th>\n",
       "      <th>other</th>\n",
       "      <th>self</th>\n",
       "      <th>other</th>\n",
       "    </tr>\n",
       "    <tr>\n",
       "      <th>Models</th>\n",
       "      <th></th>\n",
       "      <th></th>\n",
       "      <th></th>\n",
       "      <th></th>\n",
       "      <th></th>\n",
       "      <th></th>\n",
       "      <th></th>\n",
       "      <th></th>\n",
       "    </tr>\n",
       "  </thead>\n",
       "  <tbody>\n",
       "    <tr>\n",
       "      <th>K-NN</th>\n",
       "      <td>0.849</td>\n",
       "      <td>0.872</td>\n",
       "      <td>0.992</td>\n",
       "      <td>0.986</td>\n",
       "      <td>0.987</td>\n",
       "      <td>0.852</td>\n",
       "      <td>0.913</td>\n",
       "      <td>0.862</td>\n",
       "    </tr>\n",
       "    <tr>\n",
       "      <th>Logistic</th>\n",
       "      <td>0.821</td>\n",
       "      <td>0.888</td>\n",
       "      <td>0.990</td>\n",
       "      <td>0.972</td>\n",
       "      <td>0.974</td>\n",
       "      <td>0.668</td>\n",
       "      <td>0.891</td>\n",
       "      <td>0.763</td>\n",
       "    </tr>\n",
       "    <tr>\n",
       "      <th>Random Forest</th>\n",
       "      <td>0.849</td>\n",
       "      <td>0.860</td>\n",
       "      <td>0.992</td>\n",
       "      <td>0.990</td>\n",
       "      <td>0.987</td>\n",
       "      <td>0.933</td>\n",
       "      <td>0.913</td>\n",
       "      <td>0.895</td>\n",
       "    </tr>\n",
       "  </tbody>\n",
       "</table>\n",
       "</div>"
      ],
      "text/plain": [
       "              Recall/Sensitivity        Accuracy_Score        Precision  \\\n",
       "                            self  other           self  other      self   \n",
       "Models                                                                    \n",
       "K-NN                       0.849  0.872          0.992  0.986     0.987   \n",
       "Logistic                   0.821  0.888          0.990  0.972     0.974   \n",
       "Random Forest              0.849  0.860          0.992  0.990     0.987   \n",
       "\n",
       "                     F1_Score         \n",
       "               other     self  other  \n",
       "Models                                \n",
       "K-NN           0.852    0.913  0.862  \n",
       "Logistic       0.668    0.891  0.763  \n",
       "Random Forest  0.933    0.913  0.895  "
      ]
     },
     "execution_count": 84,
     "metadata": {},
     "output_type": "execute_result"
    }
   ],
   "source": [
    "# compairing the default score dataset with the score dataset obtained from SMOTE\n",
    "\n",
    "print(\"\\nComparison between the default and smote obtained scores datasets:\")\n",
    "X3 = dataframe.compare(dataframe3)\n",
    "X3[\"Models\"] = Models; X3.reset_index(drop=True)\n",
    "X3.set_index('Models')"
   ]
  },
  {
   "cell_type": "markdown",
   "id": "collaborative-lending",
   "metadata": {},
   "source": [
    "### Now for each classifiers, checking how much the score values differ and which technique better promises accuracy"
   ]
  },
  {
   "cell_type": "code",
   "execution_count": 85,
   "id": "technical-inspector",
   "metadata": {},
   "outputs": [
    {
     "name": "stdout",
     "output_type": "stream",
     "text": [
      "\n",
      "For K-NN:\n"
     ]
    },
    {
     "data": {
      "text/html": [
       "<div>\n",
       "<style scoped>\n",
       "    .dataframe tbody tr th:only-of-type {\n",
       "        vertical-align: middle;\n",
       "    }\n",
       "\n",
       "    .dataframe tbody tr th {\n",
       "        vertical-align: top;\n",
       "    }\n",
       "\n",
       "    .dataframe thead th {\n",
       "        text-align: right;\n",
       "    }\n",
       "</style>\n",
       "<table border=\"1\" class=\"dataframe\">\n",
       "  <thead>\n",
       "    <tr style=\"text-align: right;\">\n",
       "      <th></th>\n",
       "      <th>Dataframes</th>\n",
       "      <th>Recall diff</th>\n",
       "      <th>Accuracy diff</th>\n",
       "      <th>Precision diff</th>\n",
       "      <th>F1 diff</th>\n",
       "    </tr>\n",
       "  </thead>\n",
       "  <tbody>\n",
       "    <tr>\n",
       "      <th>0</th>\n",
       "      <td>Under_sampling</td>\n",
       "      <td>0.028</td>\n",
       "      <td>-0.012</td>\n",
       "      <td>-0.217</td>\n",
       "      <td>-0.093</td>\n",
       "    </tr>\n",
       "    <tr>\n",
       "      <th>1</th>\n",
       "      <td>Over_sampling</td>\n",
       "      <td>0.006</td>\n",
       "      <td>-0.003</td>\n",
       "      <td>-0.054</td>\n",
       "      <td>-0.021</td>\n",
       "    </tr>\n",
       "    <tr>\n",
       "      <th>2</th>\n",
       "      <td>Smote</td>\n",
       "      <td>0.023</td>\n",
       "      <td>-0.006</td>\n",
       "      <td>-0.135</td>\n",
       "      <td>-0.051</td>\n",
       "    </tr>\n",
       "  </tbody>\n",
       "</table>\n",
       "</div>"
      ],
      "text/plain": [
       "       Dataframes  Recall diff  Accuracy diff  Precision diff  F1 diff\n",
       "0  Under_sampling        0.028         -0.012          -0.217   -0.093\n",
       "1   Over_sampling        0.006         -0.003          -0.054   -0.021\n",
       "2           Smote        0.023         -0.006          -0.135   -0.051"
      ]
     },
     "execution_count": 85,
     "metadata": {},
     "output_type": "execute_result"
    }
   ],
   "source": [
    "re_dif = [X1['Recall/Sensitivity'].other[0]-X1['Recall/Sensitivity'].self[0],\n",
    "          X2['Recall/Sensitivity'].other[0]-X2['Recall/Sensitivity'].self[0],\n",
    "          X3['Recall/Sensitivity'].other[0]-X2['Recall/Sensitivity'].self[0]]\n",
    "ac_dif = [X1.Accuracy_Score.other[0]-X1.Accuracy_Score.self[0],\n",
    "          X2.Accuracy_Score.other[0]-X2.Accuracy_Score.self[0],\n",
    "          X3.Accuracy_Score.other[0]-X2.Accuracy_Score.self[0]]\n",
    "pr_dif = [X1.Precision.other[0]-X1.Precision.self[0],\n",
    "          X2.Precision.other[0]-X2.Precision.self[0],\n",
    "          X3.Precision.other[0]-X2.Precision.self[0]]\n",
    "f1_dif = [X1.F1_Score.other[0]-X1.F1_Score.self[0],\n",
    "          X2.F1_Score.other[0]-X2.F1_Score.self[0],\n",
    "          X3.F1_Score.other[0]-X2.F1_Score.self[0]]\n",
    "\n",
    "print(\"\\nFor K-NN:\")\n",
    "KNN = pd.DataFrame({'Dataframes': ['Under_sampling','Over_sampling','Smote'], 'Recall diff':re_dif, \n",
    "                     'Accuracy diff':ac_dif, 'Precision diff':pr_dif, 'F1 diff':f1_dif})\n",
    "KNN"
   ]
  },
  {
   "cell_type": "code",
   "execution_count": 86,
   "id": "criminal-billy",
   "metadata": {},
   "outputs": [
    {
     "name": "stdout",
     "output_type": "stream",
     "text": [
      "\n",
      "For Logistic Regression:\n"
     ]
    },
    {
     "data": {
      "text/html": [
       "<div>\n",
       "<style scoped>\n",
       "    .dataframe tbody tr th:only-of-type {\n",
       "        vertical-align: middle;\n",
       "    }\n",
       "\n",
       "    .dataframe tbody tr th {\n",
       "        vertical-align: top;\n",
       "    }\n",
       "\n",
       "    .dataframe thead th {\n",
       "        text-align: right;\n",
       "    }\n",
       "</style>\n",
       "<table border=\"1\" class=\"dataframe\">\n",
       "  <thead>\n",
       "    <tr style=\"text-align: right;\">\n",
       "      <th></th>\n",
       "      <th>Dataframes</th>\n",
       "      <th>Recall diff</th>\n",
       "      <th>Accuracy diff</th>\n",
       "      <th>Precision diff</th>\n",
       "      <th>F1 diff</th>\n",
       "    </tr>\n",
       "  </thead>\n",
       "  <tbody>\n",
       "    <tr>\n",
       "      <th>0</th>\n",
       "      <td>Under_sampling</td>\n",
       "      <td>0.084</td>\n",
       "      <td>-0.046</td>\n",
       "      <td>-0.499</td>\n",
       "      <td>-0.268</td>\n",
       "    </tr>\n",
       "    <tr>\n",
       "      <th>1</th>\n",
       "      <td>Over_sampling</td>\n",
       "      <td>0.062</td>\n",
       "      <td>-0.016</td>\n",
       "      <td>-0.278</td>\n",
       "      <td>-0.113</td>\n",
       "    </tr>\n",
       "    <tr>\n",
       "      <th>2</th>\n",
       "      <td>Smote</td>\n",
       "      <td>0.067</td>\n",
       "      <td>-0.018</td>\n",
       "      <td>-0.306</td>\n",
       "      <td>-0.128</td>\n",
       "    </tr>\n",
       "  </tbody>\n",
       "</table>\n",
       "</div>"
      ],
      "text/plain": [
       "       Dataframes  Recall diff  Accuracy diff  Precision diff  F1 diff\n",
       "0  Under_sampling        0.084         -0.046          -0.499   -0.268\n",
       "1   Over_sampling        0.062         -0.016          -0.278   -0.113\n",
       "2           Smote        0.067         -0.018          -0.306   -0.128"
      ]
     },
     "execution_count": 86,
     "metadata": {},
     "output_type": "execute_result"
    }
   ],
   "source": [
    "re_dif = [X1['Recall/Sensitivity'].other[1]-X1['Recall/Sensitivity'].self[1],\n",
    "          X2['Recall/Sensitivity'].other[1]-X2['Recall/Sensitivity'].self[1],\n",
    "          X3['Recall/Sensitivity'].other[1]-X2['Recall/Sensitivity'].self[1]]\n",
    "ac_dif = [X1.Accuracy_Score.other[1]-X1.Accuracy_Score.self[1],\n",
    "          X2.Accuracy_Score.other[1]-X2.Accuracy_Score.self[1],\n",
    "          X3.Accuracy_Score.other[1]-X2.Accuracy_Score.self[1]]\n",
    "pr_dif = [X1.Precision.other[1]-X1.Precision.self[1],\n",
    "          X2.Precision.other[1]-X2.Precision.self[1],\n",
    "          X3.Precision.other[1]-X2.Precision.self[1]]\n",
    "f1_dif = [X1.F1_Score.other[1]-X1.F1_Score.self[1],\n",
    "          X2.F1_Score.other[1]-X2.F1_Score.self[1],\n",
    "          X3.F1_Score.other[1]-X2.F1_Score.self[1]]\n",
    "\n",
    "print(\"\\nFor Logistic Regression:\")\n",
    "Logistic = pd.DataFrame({'Dataframes': ['Under_sampling','Over_sampling','Smote'], 'Recall diff':re_dif, \n",
    "                     'Accuracy diff':ac_dif, 'Precision diff':pr_dif, 'F1 diff':f1_dif})\n",
    "Logistic"
   ]
  },
  {
   "cell_type": "markdown",
   "id": "confused-lobby",
   "metadata": {},
   "source": [
    "> Higher the difference, better the resampling technique for the corresponding metric for the Logistic Regression. "
   ]
  },
  {
   "cell_type": "code",
   "execution_count": 87,
   "id": "double-third",
   "metadata": {},
   "outputs": [
    {
     "name": "stdout",
     "output_type": "stream",
     "text": [
      "\n",
      "For Random Forest Classifier:\n"
     ]
    },
    {
     "data": {
      "text/html": [
       "<div>\n",
       "<style scoped>\n",
       "    .dataframe tbody tr th:only-of-type {\n",
       "        vertical-align: middle;\n",
       "    }\n",
       "\n",
       "    .dataframe tbody tr th {\n",
       "        vertical-align: top;\n",
       "    }\n",
       "\n",
       "    .dataframe thead th {\n",
       "        text-align: right;\n",
       "    }\n",
       "</style>\n",
       "<table border=\"1\" class=\"dataframe\">\n",
       "  <thead>\n",
       "    <tr style=\"text-align: right;\">\n",
       "      <th></th>\n",
       "      <th>Dataframes</th>\n",
       "      <th>Recall diff</th>\n",
       "      <th>Accuracy diff</th>\n",
       "      <th>Precision diff</th>\n",
       "      <th>F1 diff</th>\n",
       "    </tr>\n",
       "  </thead>\n",
       "  <tbody>\n",
       "    <tr>\n",
       "      <th>0</th>\n",
       "      <td>Under_sampling</td>\n",
       "      <td>0.034</td>\n",
       "      <td>-0.019</td>\n",
       "      <td>-0.303</td>\n",
       "      <td>-0.142</td>\n",
       "    </tr>\n",
       "    <tr>\n",
       "      <th>1</th>\n",
       "      <td>Over_sampling</td>\n",
       "      <td>0.006</td>\n",
       "      <td>NaN</td>\n",
       "      <td>NaN</td>\n",
       "      <td>0.003</td>\n",
       "    </tr>\n",
       "    <tr>\n",
       "      <th>2</th>\n",
       "      <td>Smote</td>\n",
       "      <td>0.011</td>\n",
       "      <td>NaN</td>\n",
       "      <td>NaN</td>\n",
       "      <td>-0.018</td>\n",
       "    </tr>\n",
       "  </tbody>\n",
       "</table>\n",
       "</div>"
      ],
      "text/plain": [
       "       Dataframes  Recall diff  Accuracy diff  Precision diff  F1 diff\n",
       "0  Under_sampling        0.034         -0.019          -0.303   -0.142\n",
       "1   Over_sampling        0.006            NaN             NaN    0.003\n",
       "2           Smote        0.011            NaN             NaN   -0.018"
      ]
     },
     "execution_count": 87,
     "metadata": {},
     "output_type": "execute_result"
    }
   ],
   "source": [
    "re_dif = [X1['Recall/Sensitivity'].other[2]-X1['Recall/Sensitivity'].self[2],\n",
    "          X2['Recall/Sensitivity'].other[2]-X2['Recall/Sensitivity'].self[2],\n",
    "          X3['Recall/Sensitivity'].other[2]-X2['Recall/Sensitivity'].self[2]]\n",
    "ac_dif = [X1.Accuracy_Score.other[2]-X1.Accuracy_Score.self[2],\n",
    "          X2.Accuracy_Score.other[2]-X2.Accuracy_Score.self[2],\n",
    "          X3.Accuracy_Score.other[2]-X2.Accuracy_Score.self[2]]\n",
    "pr_dif = [X1.Precision.other[2]-X1.Precision.self[2],\n",
    "          X2.Precision.other[2]-X2.Precision.self[2],\n",
    "          X3.Precision.other[2]-X2.Precision.self[2]]\n",
    "f1_dif = [X1.F1_Score.other[2]-X1.F1_Score.self[2],\n",
    "          X2.F1_Score.other[2]-X2.F1_Score.self[2],\n",
    "          X3.F1_Score.other[2]-X2.F1_Score.self[2]]\n",
    "\n",
    "print(\"\\nFor Random Forest Classifier:\")\n",
    "Random_Forest = pd.DataFrame({'Dataframes': ['Under_sampling','Over_sampling','Smote'], 'Recall diff':re_dif, \n",
    "                     'Accuracy diff':ac_dif, 'Precision diff':pr_dif, 'F1 diff':f1_dif})\n",
    "Random_Forest"
   ]
  },
  {
   "cell_type": "markdown",
   "id": "fatty-growing",
   "metadata": {},
   "source": [
    "> Higher the difference, better the resampling technique for the corresponding metric for the Random Forest Classifier. "
   ]
  },
  {
   "cell_type": "markdown",
   "id": "limiting-mapping",
   "metadata": {},
   "source": [
    "### Check for accuracy gains from each classifiers"
   ]
  },
  {
   "cell_type": "code",
   "execution_count": 88,
   "id": "industrial-antarctica",
   "metadata": {},
   "outputs": [],
   "source": [
    "def accuracy_gain(model_name, ypred_def, ypred_final):\n",
    "    \n",
    "    print(\"\\n{}:\\n\".format(model_name))\n",
    "    print(\"gain in recall:\",(metrics.recall_score(test_y,ypred_final) - metrics.recall_score(test_y,ypred_def)))\n",
    "    print(\"gain in Accuracy score:\",(metrics.accuracy_score(test_y,ypred_final) - metrics.accuracy_score(test_y,ypred_def)))\n",
    "    print(\"gain in Precision:\",(metrics.precision_score(test_y,ypred_final) - metrics.precision_score(test_y,ypred_def)))\n",
    "    print(\"gain in F1 score:\",(metrics.f1_score(test_y,ypred_final) - metrics.f1_score(test_y,ypred_def)))"
   ]
  },
  {
   "cell_type": "code",
   "execution_count": 89,
   "id": "fundamental-entrance",
   "metadata": {},
   "outputs": [
    {
     "name": "stdout",
     "output_type": "stream",
     "text": [
      "\u001b[1m** For Under Random Sampling:\u001b[0m\n",
      "\n",
      "K-NN:\n",
      "\n",
      "gain in recall: 0.027932960893854775\n",
      "gain in Accuracy score: -0.011435105774728394\n",
      "gain in Precision: -0.21740514387573207\n",
      "gain in F1 score: -0.09306957087635948\n",
      "\n",
      "Logistic:\n",
      "\n",
      "gain in recall: 0.08379888268156432\n",
      "gain in Accuracy score: -0.045740423098913685\n",
      "gain in Precision: -0.4984366199918432\n",
      "gain in F1 score: -0.2678321678321678\n",
      "\n",
      "Random Forest:\n",
      "\n",
      "gain in recall: 0.03351955307262566\n",
      "gain in Accuracy score: -0.018582046883933723\n",
      "gain in Precision: -0.303030303030303\n",
      "gain in F1 score: -0.1421812055958398\n",
      "\u001b[1m\n",
      "** For Over Random Sampling:\u001b[0m\n",
      "\n",
      "K-NN:\n",
      "\n",
      "gain in recall: 0.005586592178770999\n",
      "gain in Accuracy score: -0.002287021154945723\n",
      "gain in Precision: -0.054086157744694274\n",
      "gain in F1 score: -0.020784633029531152\n",
      "\n",
      "Logistic:\n",
      "\n",
      "gain in recall: 0.06145251396648044\n",
      "gain in Accuracy score: -0.015437392795883409\n",
      "gain in Precision: -0.27747469148408554\n",
      "gain in F1 score: -0.11258396775638146\n",
      "\n",
      "Random Forest:\n",
      "\n",
      "gain in recall: 0.005586592178770999\n",
      "gain in Accuracy score: 0.0002858776443681599\n",
      "gain in Precision: 8.378718056134549e-05\n",
      "gain in F1 score: 0.0032547517577456997\n",
      "\u001b[1m\n",
      "** For SMOTE:\u001b[0m\n",
      "\n",
      "K-NN:\n",
      "\n",
      "gain in recall: 0.022346368715083775\n",
      "gain in Accuracy score: -0.006003430531732468\n",
      "gain in Precision: -0.13455397061954444\n",
      "gain in F1 score: -0.051034459874238935\n",
      "\n",
      "Logistic:\n",
      "\n",
      "gain in recall: 0.06703910614525144\n",
      "gain in Accuracy score: -0.018010291595197292\n",
      "gain in Precision: -0.30544270688407815\n",
      "gain in F1 score: -0.128319162851537\n",
      "\n",
      "Random Forest:\n",
      "\n",
      "gain in recall: 0.011173184357541888\n",
      "gain in Accuracy score: -0.002001143510577452\n",
      "gain in Precision: -0.05367965367965366\n",
      "gain in F1 score: -0.017564075703610516\n",
      "\n",
      "XGBoost:\n",
      "\n",
      "gain in recall: 0.016759776536312776\n",
      "gain in Accuracy score: -0.0037164093767867445\n",
      "gain in Precision: -0.08699849817635708\n",
      "gain in F1 score: -0.03160737505417943\n"
     ]
    }
   ],
   "source": [
    "print('\\033[1m' + \"** For Under Random Sampling:\"+'\\033[0m')\n",
    "accuracy_gain('K-NN',ypred_knn1,ypred_knn2)\n",
    "accuracy_gain('Logistic',ypred_lr,ypred_lr2)\n",
    "accuracy_gain('Random Forest',ypred_rf,ypred_rf2)\n",
    "\n",
    "print('\\033[1m' + \"\\n** For Over Random Sampling:\"+'\\033[0m')\n",
    "accuracy_gain('K-NN',ypred_knn1,ypred_knn3)\n",
    "accuracy_gain('Logistic',ypred_lr,ypred_lr3)\n",
    "accuracy_gain('Random Forest',ypred_rf,ypred_rf3)\n",
    "\n",
    "print('\\033[1m' + \"\\n** For SMOTE:\"+'\\033[0m')\n",
    "accuracy_gain('K-NN',ypred_knn1,ypred_knn4)\n",
    "accuracy_gain('Logistic',ypred_lr,ypred_lr4)\n",
    "accuracy_gain('Random Forest',ypred_rf,ypred_rf4)\n",
    "accuracy_gain('XGBoost',ypred_xgb,ypred_xgb1)"
   ]
  },
  {
   "cell_type": "markdown",
   "id": "helpful-occasion",
   "metadata": {},
   "source": [
    "### \n",
    "<h3 align=\"center\"> || Final Report || <h3/>"
   ]
  },
  {
   "cell_type": "markdown",
   "id": "suited-irrigation",
   "metadata": {},
   "source": [
    "<div class=\"alert alert-block alert-info\" style='background:palegoldenrod'>\n",
    "So, after having taken care of the imbalanced dataset , we came across some changes in our score values for each classifier. Let's have a recap and make some conclusions over our findings.</span>\n",
    "    \n",
    "\n",
    "1. For **K-NN model**, **under random sampling** does provide a better recall scores than default scenario, accuracy of +0.023 (from 0.849 to 0.872) has come up after applying this, but couldn't be of much help for other metrics. So, **under sampling** was somehow better than **over sampling** in case of K-NN.\n",
    "\n",
    "2. For **Logistic Regression model**, most positive gain in recall_score has been achieved for **under random sampling**.\n",
    "\n",
    "3. For **Random Forest**, A little positive rise occured in recall score for **under sampling** , followed by scores of **SMOTE**.\n",
    "4. For **XGBoost Classifier**, **SMOTE** does offer a better positive rise in recall value than others.\n",
    "\n",
    "> Well, after scooping through all of my findings, I conclude that a better prediction is coming from **LOGISTIC REGRESSION(Random UNDER Sampling)**"
   ]
  },
  {
   "cell_type": "code",
   "execution_count": null,
   "id": "olympic-walnut",
   "metadata": {},
   "outputs": [],
   "source": []
  }
 ],
 "metadata": {
  "kernelspec": {
   "display_name": "Python 3",
   "language": "python",
   "name": "python3"
  },
  "language_info": {
   "codemirror_mode": {
    "name": "ipython",
    "version": 3
   },
   "file_extension": ".py",
   "mimetype": "text/x-python",
   "name": "python",
   "nbconvert_exporter": "python",
   "pygments_lexer": "ipython3",
   "version": "3.9.5"
  }
 },
 "nbformat": 4,
 "nbformat_minor": 5
}
